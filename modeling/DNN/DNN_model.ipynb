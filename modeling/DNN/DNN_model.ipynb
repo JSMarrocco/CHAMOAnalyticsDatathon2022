{
  "cells": [
    {
      "cell_type": "code",
      "execution_count": 66,
      "metadata": {
        "id": "fPAy2g-dMcFd"
      },
      "outputs": [
        {
          "name": "stdout",
          "output_type": "stream",
          "text": [
            "Num GPUs Available:  0\n"
          ]
        }
      ],
      "source": [
        "import pandas as pd\n",
        "import datetime \n",
        "import numpy as np\n",
        "\n",
        "from sklearn.metrics import mean_squared_error\n",
        "from sklearn.model_selection import train_test_split\n",
        "from sklearn.preprocessing import MinMaxScaler\n",
        "\n",
        "\n",
        "\n",
        "import pandas as pd\n",
        "import tensorflow as tf\n",
        "from tensorflow.keras.models import Sequential\n",
        "from tensorflow.keras.layers import Dense\n",
        "from tensorflow.keras.callbacks import EarlyStopping\n",
        "from tensorflow.keras import layers\n",
        "\n",
        "import keras\n",
        "\n",
        "import keras_tuner\n",
        "from sklearn.decomposition import PCA\n",
        "\n",
        "\n",
        "\n",
        "print(\"Num GPUs Available: \", len(tf.config.list_physical_devices('GPU')))\n",
        "\n",
        "SEED = 42\n",
        "\n",
        "tf.keras.utils.set_random_seed(\n",
        "    SEED\n",
        ")"
      ]
    },
    {
      "cell_type": "markdown",
      "metadata": {
        "id": "f2qt4sXEIZRg"
      },
      "source": [
        "# Preprocessing"
      ]
    },
    {
      "cell_type": "code",
      "execution_count": 67,
      "metadata": {
        "colab": {
          "base_uri": "https://localhost:8080/",
          "height": 661
        },
        "id": "ascrJ-fnM1MR",
        "outputId": "d16982b4-df1f-4520-e584-8ec405a2bdf6"
      },
      "outputs": [
        {
          "data": {
            "text/html": [
              "<div>\n",
              "<style scoped>\n",
              "    .dataframe tbody tr th:only-of-type {\n",
              "        vertical-align: middle;\n",
              "    }\n",
              "\n",
              "    .dataframe tbody tr th {\n",
              "        vertical-align: top;\n",
              "    }\n",
              "\n",
              "    .dataframe thead th {\n",
              "        text-align: right;\n",
              "    }\n",
              "</style>\n",
              "<table border=\"1\" class=\"dataframe\">\n",
              "  <thead>\n",
              "    <tr style=\"text-align: right;\">\n",
              "      <th></th>\n",
              "      <th>date</th>\n",
              "      <th>rate</th>\n",
              "      <th>sent_fin_us_uncertainty</th>\n",
              "      <th>sent_fin_us_litigious</th>\n",
              "      <th>sent_fin_us_strong_modal</th>\n",
              "      <th>sent_fin_us_weak_modal</th>\n",
              "      <th>sent_fin_us_constraining</th>\n",
              "      <th>sent_fin_us_optimistic</th>\n",
              "      <th>sent_fin_can_uncertainty</th>\n",
              "      <th>sent_fin_can_litigious</th>\n",
              "      <th>...</th>\n",
              "      <th>index_WGTS.FOPR</th>\n",
              "      <th>index_WGTS.MTLS</th>\n",
              "      <th>index_WGTS.NATURALGAS</th>\n",
              "      <th>index_WGTS.WCC</th>\n",
              "      <th>index_WGTS.WTI</th>\n",
              "      <th>us_bank_rate</th>\n",
              "      <th>sent_bert_us_fin</th>\n",
              "      <th>sent_bert_us_gen</th>\n",
              "      <th>sent_bert_can_fin_sentiment</th>\n",
              "      <th>sent_bert_can_gen_sentiment</th>\n",
              "    </tr>\n",
              "  </thead>\n",
              "  <tbody>\n",
              "    <tr>\n",
              "      <th>0</th>\n",
              "      <td>1955-08-04</td>\n",
              "      <td>NaN</td>\n",
              "      <td>NaN</td>\n",
              "      <td>NaN</td>\n",
              "      <td>NaN</td>\n",
              "      <td>NaN</td>\n",
              "      <td>NaN</td>\n",
              "      <td>NaN</td>\n",
              "      <td>NaN</td>\n",
              "      <td>NaN</td>\n",
              "      <td>...</td>\n",
              "      <td>NaN</td>\n",
              "      <td>NaN</td>\n",
              "      <td>NaN</td>\n",
              "      <td>NaN</td>\n",
              "      <td>NaN</td>\n",
              "      <td>3.25</td>\n",
              "      <td>NaN</td>\n",
              "      <td>NaN</td>\n",
              "      <td>NaN</td>\n",
              "      <td>NaN</td>\n",
              "    </tr>\n",
              "    <tr>\n",
              "      <th>1</th>\n",
              "      <td>1955-08-05</td>\n",
              "      <td>NaN</td>\n",
              "      <td>NaN</td>\n",
              "      <td>NaN</td>\n",
              "      <td>NaN</td>\n",
              "      <td>NaN</td>\n",
              "      <td>NaN</td>\n",
              "      <td>NaN</td>\n",
              "      <td>NaN</td>\n",
              "      <td>NaN</td>\n",
              "      <td>...</td>\n",
              "      <td>NaN</td>\n",
              "      <td>NaN</td>\n",
              "      <td>NaN</td>\n",
              "      <td>NaN</td>\n",
              "      <td>NaN</td>\n",
              "      <td>3.25</td>\n",
              "      <td>NaN</td>\n",
              "      <td>NaN</td>\n",
              "      <td>NaN</td>\n",
              "      <td>NaN</td>\n",
              "    </tr>\n",
              "    <tr>\n",
              "      <th>2</th>\n",
              "      <td>1955-08-08</td>\n",
              "      <td>NaN</td>\n",
              "      <td>NaN</td>\n",
              "      <td>NaN</td>\n",
              "      <td>NaN</td>\n",
              "      <td>NaN</td>\n",
              "      <td>NaN</td>\n",
              "      <td>NaN</td>\n",
              "      <td>NaN</td>\n",
              "      <td>NaN</td>\n",
              "      <td>...</td>\n",
              "      <td>NaN</td>\n",
              "      <td>NaN</td>\n",
              "      <td>NaN</td>\n",
              "      <td>NaN</td>\n",
              "      <td>NaN</td>\n",
              "      <td>3.25</td>\n",
              "      <td>NaN</td>\n",
              "      <td>NaN</td>\n",
              "      <td>NaN</td>\n",
              "      <td>NaN</td>\n",
              "    </tr>\n",
              "    <tr>\n",
              "      <th>3</th>\n",
              "      <td>1955-08-09</td>\n",
              "      <td>NaN</td>\n",
              "      <td>NaN</td>\n",
              "      <td>NaN</td>\n",
              "      <td>NaN</td>\n",
              "      <td>NaN</td>\n",
              "      <td>NaN</td>\n",
              "      <td>NaN</td>\n",
              "      <td>NaN</td>\n",
              "      <td>NaN</td>\n",
              "      <td>...</td>\n",
              "      <td>NaN</td>\n",
              "      <td>NaN</td>\n",
              "      <td>NaN</td>\n",
              "      <td>NaN</td>\n",
              "      <td>NaN</td>\n",
              "      <td>3.25</td>\n",
              "      <td>NaN</td>\n",
              "      <td>NaN</td>\n",
              "      <td>NaN</td>\n",
              "      <td>NaN</td>\n",
              "    </tr>\n",
              "    <tr>\n",
              "      <th>4</th>\n",
              "      <td>1955-08-10</td>\n",
              "      <td>NaN</td>\n",
              "      <td>NaN</td>\n",
              "      <td>NaN</td>\n",
              "      <td>NaN</td>\n",
              "      <td>NaN</td>\n",
              "      <td>NaN</td>\n",
              "      <td>NaN</td>\n",
              "      <td>NaN</td>\n",
              "      <td>NaN</td>\n",
              "      <td>...</td>\n",
              "      <td>NaN</td>\n",
              "      <td>NaN</td>\n",
              "      <td>NaN</td>\n",
              "      <td>NaN</td>\n",
              "      <td>NaN</td>\n",
              "      <td>3.25</td>\n",
              "      <td>NaN</td>\n",
              "      <td>NaN</td>\n",
              "      <td>NaN</td>\n",
              "      <td>NaN</td>\n",
              "    </tr>\n",
              "    <tr>\n",
              "      <th>...</th>\n",
              "      <td>...</td>\n",
              "      <td>...</td>\n",
              "      <td>...</td>\n",
              "      <td>...</td>\n",
              "      <td>...</td>\n",
              "      <td>...</td>\n",
              "      <td>...</td>\n",
              "      <td>...</td>\n",
              "      <td>...</td>\n",
              "      <td>...</td>\n",
              "      <td>...</td>\n",
              "      <td>...</td>\n",
              "      <td>...</td>\n",
              "      <td>...</td>\n",
              "      <td>...</td>\n",
              "      <td>...</td>\n",
              "      <td>...</td>\n",
              "      <td>...</td>\n",
              "      <td>...</td>\n",
              "      <td>...</td>\n",
              "      <td>...</td>\n",
              "    </tr>\n",
              "    <tr>\n",
              "      <th>22845</th>\n",
              "      <td>2022-11-01</td>\n",
              "      <td>1.3625</td>\n",
              "      <td>20.0</td>\n",
              "      <td>6.0</td>\n",
              "      <td>6.0</td>\n",
              "      <td>12.0</td>\n",
              "      <td>2.0</td>\n",
              "      <td>-26.0</td>\n",
              "      <td>NaN</td>\n",
              "      <td>NaN</td>\n",
              "      <td>...</td>\n",
              "      <td>9.560856</td>\n",
              "      <td>17.131522</td>\n",
              "      <td>6.758784</td>\n",
              "      <td>24.702028</td>\n",
              "      <td>26.021942</td>\n",
              "      <td>6.25</td>\n",
              "      <td>0.258793</td>\n",
              "      <td>0.719491</td>\n",
              "      <td>NaN</td>\n",
              "      <td>NaN</td>\n",
              "    </tr>\n",
              "    <tr>\n",
              "      <th>22846</th>\n",
              "      <td>2022-11-02</td>\n",
              "      <td>1.3632</td>\n",
              "      <td>33.0</td>\n",
              "      <td>6.0</td>\n",
              "      <td>10.0</td>\n",
              "      <td>13.0</td>\n",
              "      <td>14.0</td>\n",
              "      <td>-34.0</td>\n",
              "      <td>NaN</td>\n",
              "      <td>NaN</td>\n",
              "      <td>...</td>\n",
              "      <td>9.560856</td>\n",
              "      <td>17.131522</td>\n",
              "      <td>6.758784</td>\n",
              "      <td>24.702028</td>\n",
              "      <td>26.021942</td>\n",
              "      <td>6.25</td>\n",
              "      <td>0.560365</td>\n",
              "      <td>0.948609</td>\n",
              "      <td>NaN</td>\n",
              "      <td>NaN</td>\n",
              "    </tr>\n",
              "    <tr>\n",
              "      <th>22847</th>\n",
              "      <td>2022-11-03</td>\n",
              "      <td>1.3712</td>\n",
              "      <td>NaN</td>\n",
              "      <td>NaN</td>\n",
              "      <td>NaN</td>\n",
              "      <td>NaN</td>\n",
              "      <td>NaN</td>\n",
              "      <td>NaN</td>\n",
              "      <td>NaN</td>\n",
              "      <td>NaN</td>\n",
              "      <td>...</td>\n",
              "      <td>9.560856</td>\n",
              "      <td>17.131522</td>\n",
              "      <td>6.758784</td>\n",
              "      <td>24.702028</td>\n",
              "      <td>26.021942</td>\n",
              "      <td>7.00</td>\n",
              "      <td>NaN</td>\n",
              "      <td>NaN</td>\n",
              "      <td>NaN</td>\n",
              "      <td>NaN</td>\n",
              "    </tr>\n",
              "    <tr>\n",
              "      <th>22848</th>\n",
              "      <td>2022-11-04</td>\n",
              "      <td>1.3746</td>\n",
              "      <td>NaN</td>\n",
              "      <td>NaN</td>\n",
              "      <td>NaN</td>\n",
              "      <td>NaN</td>\n",
              "      <td>NaN</td>\n",
              "      <td>NaN</td>\n",
              "      <td>NaN</td>\n",
              "      <td>NaN</td>\n",
              "      <td>...</td>\n",
              "      <td>9.560856</td>\n",
              "      <td>17.131522</td>\n",
              "      <td>6.758784</td>\n",
              "      <td>24.702028</td>\n",
              "      <td>26.021942</td>\n",
              "      <td>NaN</td>\n",
              "      <td>NaN</td>\n",
              "      <td>NaN</td>\n",
              "      <td>NaN</td>\n",
              "      <td>NaN</td>\n",
              "    </tr>\n",
              "    <tr>\n",
              "      <th>22849</th>\n",
              "      <td>2022-11-05</td>\n",
              "      <td>NaN</td>\n",
              "      <td>NaN</td>\n",
              "      <td>NaN</td>\n",
              "      <td>NaN</td>\n",
              "      <td>NaN</td>\n",
              "      <td>NaN</td>\n",
              "      <td>NaN</td>\n",
              "      <td>NaN</td>\n",
              "      <td>NaN</td>\n",
              "      <td>...</td>\n",
              "      <td>9.560856</td>\n",
              "      <td>17.131522</td>\n",
              "      <td>6.758784</td>\n",
              "      <td>24.702028</td>\n",
              "      <td>26.021942</td>\n",
              "      <td>NaN</td>\n",
              "      <td>NaN</td>\n",
              "      <td>NaN</td>\n",
              "      <td>NaN</td>\n",
              "      <td>NaN</td>\n",
              "    </tr>\n",
              "  </tbody>\n",
              "</table>\n",
              "<p>22850 rows × 45 columns</p>\n",
              "</div>"
            ],
            "text/plain": [
              "             date    rate  sent_fin_us_uncertainty  sent_fin_us_litigious  \\\n",
              "0      1955-08-04     NaN                      NaN                    NaN   \n",
              "1      1955-08-05     NaN                      NaN                    NaN   \n",
              "2      1955-08-08     NaN                      NaN                    NaN   \n",
              "3      1955-08-09     NaN                      NaN                    NaN   \n",
              "4      1955-08-10     NaN                      NaN                    NaN   \n",
              "...           ...     ...                      ...                    ...   \n",
              "22845  2022-11-01  1.3625                     20.0                    6.0   \n",
              "22846  2022-11-02  1.3632                     33.0                    6.0   \n",
              "22847  2022-11-03  1.3712                      NaN                    NaN   \n",
              "22848  2022-11-04  1.3746                      NaN                    NaN   \n",
              "22849  2022-11-05     NaN                      NaN                    NaN   \n",
              "\n",
              "       sent_fin_us_strong_modal  sent_fin_us_weak_modal  \\\n",
              "0                           NaN                     NaN   \n",
              "1                           NaN                     NaN   \n",
              "2                           NaN                     NaN   \n",
              "3                           NaN                     NaN   \n",
              "4                           NaN                     NaN   \n",
              "...                         ...                     ...   \n",
              "22845                       6.0                    12.0   \n",
              "22846                      10.0                    13.0   \n",
              "22847                       NaN                     NaN   \n",
              "22848                       NaN                     NaN   \n",
              "22849                       NaN                     NaN   \n",
              "\n",
              "       sent_fin_us_constraining  sent_fin_us_optimistic  \\\n",
              "0                           NaN                     NaN   \n",
              "1                           NaN                     NaN   \n",
              "2                           NaN                     NaN   \n",
              "3                           NaN                     NaN   \n",
              "4                           NaN                     NaN   \n",
              "...                         ...                     ...   \n",
              "22845                       2.0                   -26.0   \n",
              "22846                      14.0                   -34.0   \n",
              "22847                       NaN                     NaN   \n",
              "22848                       NaN                     NaN   \n",
              "22849                       NaN                     NaN   \n",
              "\n",
              "       sent_fin_can_uncertainty  sent_fin_can_litigious  ...  index_WGTS.FOPR  \\\n",
              "0                           NaN                     NaN  ...              NaN   \n",
              "1                           NaN                     NaN  ...              NaN   \n",
              "2                           NaN                     NaN  ...              NaN   \n",
              "3                           NaN                     NaN  ...              NaN   \n",
              "4                           NaN                     NaN  ...              NaN   \n",
              "...                         ...                     ...  ...              ...   \n",
              "22845                       NaN                     NaN  ...         9.560856   \n",
              "22846                       NaN                     NaN  ...         9.560856   \n",
              "22847                       NaN                     NaN  ...         9.560856   \n",
              "22848                       NaN                     NaN  ...         9.560856   \n",
              "22849                       NaN                     NaN  ...         9.560856   \n",
              "\n",
              "       index_WGTS.MTLS  index_WGTS.NATURALGAS  index_WGTS.WCC  index_WGTS.WTI  \\\n",
              "0                  NaN                    NaN             NaN             NaN   \n",
              "1                  NaN                    NaN             NaN             NaN   \n",
              "2                  NaN                    NaN             NaN             NaN   \n",
              "3                  NaN                    NaN             NaN             NaN   \n",
              "4                  NaN                    NaN             NaN             NaN   \n",
              "...                ...                    ...             ...             ...   \n",
              "22845        17.131522               6.758784       24.702028       26.021942   \n",
              "22846        17.131522               6.758784       24.702028       26.021942   \n",
              "22847        17.131522               6.758784       24.702028       26.021942   \n",
              "22848        17.131522               6.758784       24.702028       26.021942   \n",
              "22849        17.131522               6.758784       24.702028       26.021942   \n",
              "\n",
              "        us_bank_rate  sent_bert_us_fin  sent_bert_us_gen  \\\n",
              "0               3.25               NaN               NaN   \n",
              "1               3.25               NaN               NaN   \n",
              "2               3.25               NaN               NaN   \n",
              "3               3.25               NaN               NaN   \n",
              "4               3.25               NaN               NaN   \n",
              "...              ...               ...               ...   \n",
              "22845           6.25          0.258793          0.719491   \n",
              "22846           6.25          0.560365          0.948609   \n",
              "22847           7.00               NaN               NaN   \n",
              "22848            NaN               NaN               NaN   \n",
              "22849            NaN               NaN               NaN   \n",
              "\n",
              "       sent_bert_can_fin_sentiment  sent_bert_can_gen_sentiment  \n",
              "0                              NaN                          NaN  \n",
              "1                              NaN                          NaN  \n",
              "2                              NaN                          NaN  \n",
              "3                              NaN                          NaN  \n",
              "4                              NaN                          NaN  \n",
              "...                            ...                          ...  \n",
              "22845                          NaN                          NaN  \n",
              "22846                          NaN                          NaN  \n",
              "22847                          NaN                          NaN  \n",
              "22848                          NaN                          NaN  \n",
              "22849                          NaN                          NaN  \n",
              "\n",
              "[22850 rows x 45 columns]"
            ]
          },
          "execution_count": 67,
          "metadata": {},
          "output_type": "execute_result"
        }
      ],
      "source": [
        "df_master = pd.read_csv(\"..\\..\\datasources\\master_dataset.csv\")\n",
        "\n",
        "df_master"
      ]
    },
    {
      "cell_type": "code",
      "execution_count": 68,
      "metadata": {
        "colab": {
          "base_uri": "https://localhost:8080/",
          "height": 661
        },
        "id": "Aye88jbONbAs",
        "outputId": "48b061a7-a0bc-4a41-b50d-a26513f1c516"
      },
      "outputs": [
        {
          "data": {
            "text/html": [
              "<div>\n",
              "<style scoped>\n",
              "    .dataframe tbody tr th:only-of-type {\n",
              "        vertical-align: middle;\n",
              "    }\n",
              "\n",
              "    .dataframe tbody tr th {\n",
              "        vertical-align: top;\n",
              "    }\n",
              "\n",
              "    .dataframe thead th {\n",
              "        text-align: right;\n",
              "    }\n",
              "</style>\n",
              "<table border=\"1\" class=\"dataframe\">\n",
              "  <thead>\n",
              "    <tr style=\"text-align: right;\">\n",
              "      <th></th>\n",
              "      <th>date</th>\n",
              "      <th>rate</th>\n",
              "      <th>sent_fin_us_uncertainty</th>\n",
              "      <th>sent_fin_us_litigious</th>\n",
              "      <th>sent_fin_us_strong_modal</th>\n",
              "      <th>sent_fin_us_weak_modal</th>\n",
              "      <th>sent_fin_us_constraining</th>\n",
              "      <th>sent_fin_us_optimistic</th>\n",
              "      <th>sent_fin_can_uncertainty</th>\n",
              "      <th>sent_fin_can_litigious</th>\n",
              "      <th>...</th>\n",
              "      <th>index_WGTS.MTLS</th>\n",
              "      <th>index_WGTS.NATURALGAS</th>\n",
              "      <th>index_WGTS.WCC</th>\n",
              "      <th>index_WGTS.WTI</th>\n",
              "      <th>us_bank_rate</th>\n",
              "      <th>sent_bert_us_fin</th>\n",
              "      <th>sent_bert_us_gen</th>\n",
              "      <th>sent_bert_can_fin_sentiment</th>\n",
              "      <th>sent_bert_can_gen_sentiment</th>\n",
              "      <th>y_exp</th>\n",
              "    </tr>\n",
              "  </thead>\n",
              "  <tbody>\n",
              "    <tr>\n",
              "      <th>7921</th>\n",
              "      <td>1981-12-22</td>\n",
              "      <td>NaN</td>\n",
              "      <td>NaN</td>\n",
              "      <td>NaN</td>\n",
              "      <td>NaN</td>\n",
              "      <td>NaN</td>\n",
              "      <td>NaN</td>\n",
              "      <td>NaN</td>\n",
              "      <td>NaN</td>\n",
              "      <td>NaN</td>\n",
              "      <td>...</td>\n",
              "      <td>19.084779</td>\n",
              "      <td>11.247208</td>\n",
              "      <td>6.124090</td>\n",
              "      <td>12.893272</td>\n",
              "      <td>15.75</td>\n",
              "      <td>NaN</td>\n",
              "      <td>NaN</td>\n",
              "      <td>NaN</td>\n",
              "      <td>NaN</td>\n",
              "      <td>1.1895</td>\n",
              "    </tr>\n",
              "    <tr>\n",
              "      <th>7922</th>\n",
              "      <td>1981-12-23</td>\n",
              "      <td>NaN</td>\n",
              "      <td>NaN</td>\n",
              "      <td>NaN</td>\n",
              "      <td>NaN</td>\n",
              "      <td>NaN</td>\n",
              "      <td>NaN</td>\n",
              "      <td>NaN</td>\n",
              "      <td>NaN</td>\n",
              "      <td>NaN</td>\n",
              "      <td>...</td>\n",
              "      <td>19.084779</td>\n",
              "      <td>11.247208</td>\n",
              "      <td>6.124090</td>\n",
              "      <td>12.893272</td>\n",
              "      <td>15.75</td>\n",
              "      <td>NaN</td>\n",
              "      <td>NaN</td>\n",
              "      <td>NaN</td>\n",
              "      <td>NaN</td>\n",
              "      <td>1.1863</td>\n",
              "    </tr>\n",
              "    <tr>\n",
              "      <th>7923</th>\n",
              "      <td>1981-12-24</td>\n",
              "      <td>NaN</td>\n",
              "      <td>NaN</td>\n",
              "      <td>NaN</td>\n",
              "      <td>NaN</td>\n",
              "      <td>NaN</td>\n",
              "      <td>NaN</td>\n",
              "      <td>NaN</td>\n",
              "      <td>NaN</td>\n",
              "      <td>NaN</td>\n",
              "      <td>...</td>\n",
              "      <td>19.084779</td>\n",
              "      <td>11.247208</td>\n",
              "      <td>6.124090</td>\n",
              "      <td>12.893272</td>\n",
              "      <td>15.75</td>\n",
              "      <td>NaN</td>\n",
              "      <td>NaN</td>\n",
              "      <td>NaN</td>\n",
              "      <td>NaN</td>\n",
              "      <td>1.1876</td>\n",
              "    </tr>\n",
              "    <tr>\n",
              "      <th>7924</th>\n",
              "      <td>1981-12-25</td>\n",
              "      <td>NaN</td>\n",
              "      <td>NaN</td>\n",
              "      <td>NaN</td>\n",
              "      <td>NaN</td>\n",
              "      <td>NaN</td>\n",
              "      <td>NaN</td>\n",
              "      <td>NaN</td>\n",
              "      <td>NaN</td>\n",
              "      <td>NaN</td>\n",
              "      <td>...</td>\n",
              "      <td>19.084779</td>\n",
              "      <td>11.247208</td>\n",
              "      <td>6.124090</td>\n",
              "      <td>12.893272</td>\n",
              "      <td>.</td>\n",
              "      <td>NaN</td>\n",
              "      <td>NaN</td>\n",
              "      <td>NaN</td>\n",
              "      <td>NaN</td>\n",
              "      <td>1.1863</td>\n",
              "    </tr>\n",
              "    <tr>\n",
              "      <th>7927</th>\n",
              "      <td>1981-12-28</td>\n",
              "      <td>NaN</td>\n",
              "      <td>NaN</td>\n",
              "      <td>NaN</td>\n",
              "      <td>NaN</td>\n",
              "      <td>NaN</td>\n",
              "      <td>NaN</td>\n",
              "      <td>NaN</td>\n",
              "      <td>NaN</td>\n",
              "      <td>NaN</td>\n",
              "      <td>...</td>\n",
              "      <td>19.084779</td>\n",
              "      <td>11.247208</td>\n",
              "      <td>6.124090</td>\n",
              "      <td>12.893272</td>\n",
              "      <td>15.75</td>\n",
              "      <td>NaN</td>\n",
              "      <td>NaN</td>\n",
              "      <td>NaN</td>\n",
              "      <td>NaN</td>\n",
              "      <td>1.1897</td>\n",
              "    </tr>\n",
              "    <tr>\n",
              "      <th>...</th>\n",
              "      <td>...</td>\n",
              "      <td>...</td>\n",
              "      <td>...</td>\n",
              "      <td>...</td>\n",
              "      <td>...</td>\n",
              "      <td>...</td>\n",
              "      <td>...</td>\n",
              "      <td>...</td>\n",
              "      <td>...</td>\n",
              "      <td>...</td>\n",
              "      <td>...</td>\n",
              "      <td>...</td>\n",
              "      <td>...</td>\n",
              "      <td>...</td>\n",
              "      <td>...</td>\n",
              "      <td>...</td>\n",
              "      <td>...</td>\n",
              "      <td>...</td>\n",
              "      <td>...</td>\n",
              "      <td>...</td>\n",
              "      <td>...</td>\n",
              "    </tr>\n",
              "    <tr>\n",
              "      <th>22830</th>\n",
              "      <td>2022-10-17</td>\n",
              "      <td>1.3877</td>\n",
              "      <td>13.0</td>\n",
              "      <td>9.0</td>\n",
              "      <td>2.0</td>\n",
              "      <td>7.0</td>\n",
              "      <td>5.0</td>\n",
              "      <td>-2.0</td>\n",
              "      <td>40.0</td>\n",
              "      <td>3.0</td>\n",
              "      <td>...</td>\n",
              "      <td>17.131522</td>\n",
              "      <td>6.758784</td>\n",
              "      <td>24.702028</td>\n",
              "      <td>26.021942</td>\n",
              "      <td>6.25</td>\n",
              "      <td>0.514009</td>\n",
              "      <td>0.97971</td>\n",
              "      <td>0.316318</td>\n",
              "      <td>0.703847</td>\n",
              "      <td>1.3615</td>\n",
              "    </tr>\n",
              "    <tr>\n",
              "      <th>22831</th>\n",
              "      <td>2022-10-18</td>\n",
              "      <td>1.3714</td>\n",
              "      <td>13.0</td>\n",
              "      <td>9.0</td>\n",
              "      <td>2.0</td>\n",
              "      <td>7.0</td>\n",
              "      <td>5.0</td>\n",
              "      <td>-2.0</td>\n",
              "      <td>40.0</td>\n",
              "      <td>3.0</td>\n",
              "      <td>...</td>\n",
              "      <td>17.131522</td>\n",
              "      <td>6.758784</td>\n",
              "      <td>24.702028</td>\n",
              "      <td>26.021942</td>\n",
              "      <td>6.25</td>\n",
              "      <td>0.514009</td>\n",
              "      <td>0.97971</td>\n",
              "      <td>0.316318</td>\n",
              "      <td>0.703847</td>\n",
              "      <td>1.3625</td>\n",
              "    </tr>\n",
              "    <tr>\n",
              "      <th>22832</th>\n",
              "      <td>2022-10-19</td>\n",
              "      <td>1.3741</td>\n",
              "      <td>13.0</td>\n",
              "      <td>9.0</td>\n",
              "      <td>2.0</td>\n",
              "      <td>7.0</td>\n",
              "      <td>5.0</td>\n",
              "      <td>-2.0</td>\n",
              "      <td>40.0</td>\n",
              "      <td>3.0</td>\n",
              "      <td>...</td>\n",
              "      <td>17.131522</td>\n",
              "      <td>6.758784</td>\n",
              "      <td>24.702028</td>\n",
              "      <td>26.021942</td>\n",
              "      <td>6.25</td>\n",
              "      <td>0.514009</td>\n",
              "      <td>0.97971</td>\n",
              "      <td>0.316318</td>\n",
              "      <td>0.703847</td>\n",
              "      <td>1.3632</td>\n",
              "    </tr>\n",
              "    <tr>\n",
              "      <th>22833</th>\n",
              "      <td>2022-10-20</td>\n",
              "      <td>1.3767</td>\n",
              "      <td>20.0</td>\n",
              "      <td>6.0</td>\n",
              "      <td>6.0</td>\n",
              "      <td>12.0</td>\n",
              "      <td>2.0</td>\n",
              "      <td>-26.0</td>\n",
              "      <td>40.0</td>\n",
              "      <td>3.0</td>\n",
              "      <td>...</td>\n",
              "      <td>17.131522</td>\n",
              "      <td>6.758784</td>\n",
              "      <td>24.702028</td>\n",
              "      <td>26.021942</td>\n",
              "      <td>6.25</td>\n",
              "      <td>0.514009</td>\n",
              "      <td>0.97971</td>\n",
              "      <td>0.316318</td>\n",
              "      <td>0.703847</td>\n",
              "      <td>1.3712</td>\n",
              "    </tr>\n",
              "    <tr>\n",
              "      <th>22834</th>\n",
              "      <td>2022-10-21</td>\n",
              "      <td>1.3766</td>\n",
              "      <td>20.0</td>\n",
              "      <td>6.0</td>\n",
              "      <td>6.0</td>\n",
              "      <td>12.0</td>\n",
              "      <td>2.0</td>\n",
              "      <td>-26.0</td>\n",
              "      <td>40.0</td>\n",
              "      <td>3.0</td>\n",
              "      <td>...</td>\n",
              "      <td>17.131522</td>\n",
              "      <td>6.758784</td>\n",
              "      <td>24.702028</td>\n",
              "      <td>26.021942</td>\n",
              "      <td>6.25</td>\n",
              "      <td>0.514009</td>\n",
              "      <td>0.97971</td>\n",
              "      <td>0.316318</td>\n",
              "      <td>0.703847</td>\n",
              "      <td>1.3746</td>\n",
              "    </tr>\n",
              "  </tbody>\n",
              "</table>\n",
              "<p>10599 rows × 46 columns</p>\n",
              "</div>"
            ],
            "text/plain": [
              "             date    rate  sent_fin_us_uncertainty  sent_fin_us_litigious  \\\n",
              "7921   1981-12-22     NaN                      NaN                    NaN   \n",
              "7922   1981-12-23     NaN                      NaN                    NaN   \n",
              "7923   1981-12-24     NaN                      NaN                    NaN   \n",
              "7924   1981-12-25     NaN                      NaN                    NaN   \n",
              "7927   1981-12-28     NaN                      NaN                    NaN   \n",
              "...           ...     ...                      ...                    ...   \n",
              "22830  2022-10-17  1.3877                     13.0                    9.0   \n",
              "22831  2022-10-18  1.3714                     13.0                    9.0   \n",
              "22832  2022-10-19  1.3741                     13.0                    9.0   \n",
              "22833  2022-10-20  1.3767                     20.0                    6.0   \n",
              "22834  2022-10-21  1.3766                     20.0                    6.0   \n",
              "\n",
              "       sent_fin_us_strong_modal  sent_fin_us_weak_modal  \\\n",
              "7921                        NaN                     NaN   \n",
              "7922                        NaN                     NaN   \n",
              "7923                        NaN                     NaN   \n",
              "7924                        NaN                     NaN   \n",
              "7927                        NaN                     NaN   \n",
              "...                         ...                     ...   \n",
              "22830                       2.0                     7.0   \n",
              "22831                       2.0                     7.0   \n",
              "22832                       2.0                     7.0   \n",
              "22833                       6.0                    12.0   \n",
              "22834                       6.0                    12.0   \n",
              "\n",
              "       sent_fin_us_constraining  sent_fin_us_optimistic  \\\n",
              "7921                        NaN                     NaN   \n",
              "7922                        NaN                     NaN   \n",
              "7923                        NaN                     NaN   \n",
              "7924                        NaN                     NaN   \n",
              "7927                        NaN                     NaN   \n",
              "...                         ...                     ...   \n",
              "22830                       5.0                    -2.0   \n",
              "22831                       5.0                    -2.0   \n",
              "22832                       5.0                    -2.0   \n",
              "22833                       2.0                   -26.0   \n",
              "22834                       2.0                   -26.0   \n",
              "\n",
              "       sent_fin_can_uncertainty  sent_fin_can_litigious  ...  index_WGTS.MTLS  \\\n",
              "7921                        NaN                     NaN  ...        19.084779   \n",
              "7922                        NaN                     NaN  ...        19.084779   \n",
              "7923                        NaN                     NaN  ...        19.084779   \n",
              "7924                        NaN                     NaN  ...        19.084779   \n",
              "7927                        NaN                     NaN  ...        19.084779   \n",
              "...                         ...                     ...  ...              ...   \n",
              "22830                      40.0                     3.0  ...        17.131522   \n",
              "22831                      40.0                     3.0  ...        17.131522   \n",
              "22832                      40.0                     3.0  ...        17.131522   \n",
              "22833                      40.0                     3.0  ...        17.131522   \n",
              "22834                      40.0                     3.0  ...        17.131522   \n",
              "\n",
              "       index_WGTS.NATURALGAS  index_WGTS.WCC  index_WGTS.WTI   us_bank_rate  \\\n",
              "7921               11.247208        6.124090       12.893272          15.75   \n",
              "7922               11.247208        6.124090       12.893272          15.75   \n",
              "7923               11.247208        6.124090       12.893272          15.75   \n",
              "7924               11.247208        6.124090       12.893272              .   \n",
              "7927               11.247208        6.124090       12.893272          15.75   \n",
              "...                      ...             ...             ...            ...   \n",
              "22830               6.758784       24.702028       26.021942           6.25   \n",
              "22831               6.758784       24.702028       26.021942           6.25   \n",
              "22832               6.758784       24.702028       26.021942           6.25   \n",
              "22833               6.758784       24.702028       26.021942           6.25   \n",
              "22834               6.758784       24.702028       26.021942           6.25   \n",
              "\n",
              "       sent_bert_us_fin  sent_bert_us_gen  sent_bert_can_fin_sentiment  \\\n",
              "7921                NaN               NaN                          NaN   \n",
              "7922                NaN               NaN                          NaN   \n",
              "7923                NaN               NaN                          NaN   \n",
              "7924                NaN               NaN                          NaN   \n",
              "7927                NaN               NaN                          NaN   \n",
              "...                 ...               ...                          ...   \n",
              "22830          0.514009           0.97971                     0.316318   \n",
              "22831          0.514009           0.97971                     0.316318   \n",
              "22832          0.514009           0.97971                     0.316318   \n",
              "22833          0.514009           0.97971                     0.316318   \n",
              "22834          0.514009           0.97971                     0.316318   \n",
              "\n",
              "       sent_bert_can_gen_sentiment   y_exp  \n",
              "7921                           NaN  1.1895  \n",
              "7922                           NaN  1.1863  \n",
              "7923                           NaN  1.1876  \n",
              "7924                           NaN  1.1863  \n",
              "7927                           NaN  1.1897  \n",
              "...                            ...     ...  \n",
              "22830                     0.703847  1.3615  \n",
              "22831                     0.703847  1.3625  \n",
              "22832                     0.703847  1.3632  \n",
              "22833                     0.703847  1.3712  \n",
              "22834                     0.703847  1.3746  \n",
              "\n",
              "[10599 rows x 46 columns]"
            ]
          },
          "execution_count": 68,
          "metadata": {},
          "output_type": "execute_result"
        }
      ],
      "source": [
        "df_master['y_exp'] = np.full(df_master.shape[0], -1)\n",
        "for i, row in df_master.iterrows():\n",
        "    try:\n",
        "        two_weeks_from_current_date = datetime.datetime.strptime(row.date, \"%Y-%m-%d\") + datetime.timedelta(weeks=2)\n",
        "        futur_rate = list(df_master.loc[df_master['date'] == str(two_weeks_from_current_date.date())].rate)[0]\n",
        "        df_master.loc[i, 'y_exp' ] = futur_rate\n",
        "    except: \n",
        "        break\n",
        "\n",
        "df_master = df_master.loc[df_master.y_exp >= 0]\n",
        "df_master"
      ]
    },
    {
      "cell_type": "code",
      "execution_count": 69,
      "metadata": {
        "id": "PKbJnRVvNdZo"
      },
      "outputs": [],
      "source": [
        "df_master= df_master.dropna()\n",
        "df_master= df_master.reset_index(drop=True)\n",
        "df_master = df_master.loc[df_master[' us_bank_rate'] != '.']"
      ]
    },
    {
      "cell_type": "markdown",
      "metadata": {},
      "source": [
        "## Dataset split"
      ]
    },
    {
      "cell_type": "code",
      "execution_count": 70,
      "metadata": {
        "colab": {
          "base_uri": "https://localhost:8080/",
          "height": 53
        },
        "id": "yz05U9AzNfig",
        "outputId": "7ad41c3d-fa66-4219-f1df-444c102a8cd5"
      },
      "outputs": [
        {
          "data": {
            "text/plain": [
              "(6843, 46)"
            ]
          },
          "metadata": {},
          "output_type": "display_data"
        },
        {
          "data": {
            "text/plain": [
              "(59, 46)"
            ]
          },
          "metadata": {},
          "output_type": "display_data"
        }
      ],
      "source": [
        "train = df_master.loc[df_master.date < \"2022-08-01\"]\n",
        "test = df_master.loc[df_master.date >= \"2022-08-01\"]\n",
        "\n",
        "display( train.shape, test.shape)"
      ]
    },
    {
      "cell_type": "code",
      "execution_count": 71,
      "metadata": {},
      "outputs": [
        {
          "data": {
            "text/plain": [
              "(6781, 46)"
            ]
          },
          "metadata": {},
          "output_type": "display_data"
        },
        {
          "data": {
            "text/plain": [
              "(62, 46)"
            ]
          },
          "metadata": {},
          "output_type": "display_data"
        },
        {
          "data": {
            "text/plain": [
              "(59, 46)"
            ]
          },
          "metadata": {},
          "output_type": "display_data"
        }
      ],
      "source": [
        "def split_train_test_val(df):\n",
        "    # Split train val test datasets\n",
        "    test_cutting_date = '2022-08-01'\n",
        "    val_cutting_date = '2022-05-01'\n",
        "    df_train = df[df['date'] < val_cutting_date]\n",
        "    df_val = df[(df['date'] >= val_cutting_date) &\n",
        "                (df['date'] < test_cutting_date)]\n",
        "    df_test = df[df['date'] >= test_cutting_date]\n",
        "    return df_train, df_val, df_test\n",
        "\n",
        "train, val, test = split_train_test_val(df_master)\n",
        "display(train.shape, val.shape, test.shape)"
      ]
    },
    {
      "cell_type": "code",
      "execution_count": 72,
      "metadata": {
        "id": "8iwuFz4-4NPJ"
      },
      "outputs": [],
      "source": [
        "sorted_index = ['interest_rate_can',\n",
        " 'index_WGTS.BRENT',\n",
        " 'rate',\n",
        " 'ti_rate_rsi_14',\n",
        " 'sent_fin_can_litigious',\n",
        " 'ti_rate_stochrsi_14',\n",
        " 'sent_fin_us_strong_modal',\n",
        " 'ti_rate_williams_%R',\n",
        " 'index_WGTS.COAL',\n",
        " 'ti_rate_macd_12_26',\n",
        " 'sent_fin_us_uncertainty',\n",
        " 'sent_fin_can_uncertainty',\n",
        " 'index_W.FISH',\n",
        " 'ti_rate_atr',\n",
        " 'sent_fin_us_weak_modal',\n",
        " 'sent_bert_can_fin_sentiment',\n",
        " 'index_WGTS.WCC',\n",
        " 'index_W.ENER',\n",
        " 'sent_bert_us_gen',\n",
        " 'sent_bert_can_gen_sentiment',\n",
        " 'sent_fin_us_litigious',\n",
        " 'sent_bert_us_fin',\n",
        " 'index_W.FOPR',\n",
        " 'ti_rate_utlimate_oscillator',\n",
        " 'index_WGTS.FOPR',\n",
        " 'sent_fin_can_strong_modal',\n",
        " 'ti_rate_adx_14',\n",
        " 'ti_rate_roc',\n",
        " 'ti_rate_cci',\n",
        " 'sent_fin_can_weak_modal',\n",
        " 'sent_fin_can_optimistic',\n",
        " 'sent_fin_us_optimistic',\n",
        " 'index_WGTS.NATURALGAS',\n",
        " 'sent_fin_can_constraining',\n",
        " 'us_bank_rate',\n",
        " 'index_WGTS.MTLS',\n",
        " 'index_WGTS.AGRI',\n",
        " 'index_W.MTLS',\n",
        " 'index_W.BCNE',\n",
        " 'index_WGTS.WTI',\n",
        " 'index_WGTS.FISH',\n",
        " 'sent_fin_us_constraining',\n",
        " 'index_W.AGRI',\n",
        " 'index_W.BCPI']"
      ]
    },
    {
      "cell_type": "code",
      "execution_count": 73,
      "metadata": {
        "id": "aA10m64vNxHY"
      },
      "outputs": [],
      "source": [
        "X_train = train[sorted_index[:5]].astype(float)\n",
        "y_train = train.loc[:, train.columns == \"y_exp\"]\n",
        "\n",
        "X_val = train[sorted_index[:5]].astype(float)\n",
        "y_val = train.loc[:, train.columns == \"y_exp\"]\n",
        "\n",
        "X_test = test[sorted_index[:5]].astype(float)\n",
        "y_test = test.loc[:, train.columns == \"y_exp\"]"
      ]
    },
    {
      "cell_type": "code",
      "execution_count": 74,
      "metadata": {},
      "outputs": [
        {
          "data": {
            "text/plain": [
              "(59, 5)"
            ]
          },
          "metadata": {},
          "output_type": "display_data"
        },
        {
          "data": {
            "text/plain": [
              "(59, 1)"
            ]
          },
          "metadata": {},
          "output_type": "display_data"
        }
      ],
      "source": [
        "display(X_test.shape, y_test.shape)"
      ]
    },
    {
      "cell_type": "code",
      "execution_count": 75,
      "metadata": {},
      "outputs": [],
      "source": [
        "# x_t, x_v, y_t, y_v = train_test_split(X_train, y_train, test_size=0.15, shuffle=True, random_state=SEED)"
      ]
    },
    {
      "cell_type": "code",
      "execution_count": 76,
      "metadata": {},
      "outputs": [],
      "source": [
        "def normalize(df, train=False, scaler=None, columns_to_norm=None):\n",
        "    columns= columns_to_norm if columns_to_norm else df.columns\n",
        "    if train:\n",
        "        scaler = MinMaxScaler()\n",
        "    if train:\n",
        "        scaler = scaler.fit(df[columns])\n",
        "    df[columns] = scaler.transform(df[columns])\n",
        "    return df, scaler"
      ]
    },
    {
      "cell_type": "code",
      "execution_count": 77,
      "metadata": {},
      "outputs": [],
      "source": [
        "# x_t, scaler = normalize(x_t, train=True, columns_to_norm=['interest_rate_can','rate', \"index_WGTS.BRENT\", \"ti_rate_rsi_14\"])\n",
        "# x_v, _ = normalize(x_v, train=False, scaler=scaler, columns_to_norm=['interest_rate_can','rate', \"index_WGTS.BRENT\", \"ti_rate_rsi_14\"])\n",
        "# X_test,_  = normalize(X_test, train=False, scaler=scaler, columns_to_norm=['interest_rate_can','rate', \"index_WGTS.BRENT\", \"ti_rate_rsi_14\"])"
      ]
    },
    {
      "cell_type": "markdown",
      "metadata": {
        "id": "I4n-rYvMGOg4"
      },
      "source": [
        "# Baseline - Mean"
      ]
    },
    {
      "cell_type": "code",
      "execution_count": 79,
      "metadata": {
        "colab": {
          "base_uri": "https://localhost:8080/"
        },
        "id": "EZw5-2i6Ca2u",
        "outputId": "fa11cbd1-8b4d-4580-991d-40714a547f14"
      },
      "outputs": [
        {
          "name": "stdout",
          "output_type": "stream",
          "text": [
            " Mean squared error: 0.006060090697456232\n"
          ]
        }
      ],
      "source": [
        "baseline_y_pred = np.full(y_test.shape[0] , X_train.rate.mean())\n",
        "mse = mean_squared_error(y_test.y_exp.to_list(), baseline_y_pred)\n",
        "print(f\" Mean squared error: {mse}\")"
      ]
    },
    {
      "cell_type": "markdown",
      "metadata": {
        "id": "_3NDAwxJHpar"
      },
      "source": [
        "# DNN Model"
      ]
    },
    {
      "cell_type": "markdown",
      "metadata": {
        "id": "RvEDjomDHlYB"
      },
      "source": [
        "## Hyper-parameter tunning\n"
      ]
    },
    {
      "cell_type": "code",
      "execution_count": 19,
      "metadata": {
        "id": "dHlvlHY5HeU_"
      },
      "outputs": [],
      "source": [
        "def build_tune_model(hp):\n",
        "\t# create model\n",
        "\tinput_dim = len(X_train.columns)\n",
        "\tmodel = Sequential()\n",
        "\tmodel.add(Dense( hp.Int(\"layer1\", min_value=1, max_value=25, step=5), input_shape=(input_dim,), kernel_initializer='normal', activation='relu'))\n",
        "    \n",
        "\tnb_layer = hp.Int(\"num_layers\", 0, 4)\n",
        "\tif nb_layer != 0:\n",
        "\t\tfor i in range(0, nb_layer):\n",
        "\t\t\tmodel.add(\n",
        "                layers.Dense(\n",
        "                    units=hp.Int(f\"units_{i}\", min_value=1, max_value=25, step=5),\n",
        "                    activation='relu',\n",
        "                    kernel_initializer='normal'\n",
        "                )\n",
        "            )\n",
        "\tmodel.add(Dense(1, kernel_initializer='normal'))\n",
        "\t# Compile model\n",
        "\t# le = hp.Float(\"lr\", min_value=1e-4, max_value=1e-2, sampling=\"log\")\n",
        "\tle = hp.Choice('lr', [1.0, 1e-2, 1e-4, 1e-3])\n",
        "\tmodel.compile(loss='mean_squared_error', optimizer=keras.optimizers.Adam(learning_rate=0.001))\n",
        "    \n",
        "\treturn model"
      ]
    },
    {
      "cell_type": "code",
      "execution_count": 20,
      "metadata": {
        "colab": {
          "base_uri": "https://localhost:8080/"
        },
        "id": "GgCXRao0hTvq",
        "outputId": "89816203-f482-41a8-cd02-8d735fd7b9a9"
      },
      "outputs": [
        {
          "name": "stdout",
          "output_type": "stream",
          "text": [
            "Trial 10 Complete [00h 00m 28s]\n",
            "val_loss: 0.0003758674720302224\n",
            "\n",
            "Best val_loss So Far: 0.0003737575316336006\n",
            "Total elapsed time: 00h 03m 29s\n",
            "INFO:tensorflow:Oracle triggered exit\n",
            "Model: \"sequential\"\n",
            "_________________________________________________________________\n",
            " Layer (type)                Output Shape              Param #   \n",
            "=================================================================\n",
            " dense (Dense)               (None, 11)                66        \n",
            "                                                                 \n",
            " dense_1 (Dense)             (None, 11)                132       \n",
            "                                                                 \n",
            " dense_2 (Dense)             (None, 6)                 72        \n",
            "                                                                 \n",
            " dense_3 (Dense)             (None, 1)                 7         \n",
            "                                                                 \n",
            " dense_4 (Dense)             (None, 1)                 2         \n",
            "                                                                 \n",
            "=================================================================\n",
            "Total params: 279\n",
            "Trainable params: 279\n",
            "Non-trainable params: 0\n",
            "_________________________________________________________________\n"
          ]
        }
      ],
      "source": [
        "tuner = keras_tuner.RandomSearch(\n",
        "    build_tune_model,\n",
        "    objective='val_loss',\n",
        "    overwrite=True,\n",
        "    max_trials=10,\n",
        "    project_name=\"DNN_Model_Tune\")\n",
        "\n",
        "monitor = EarlyStopping(monitor='val_loss', min_delta=1e-3, patience=5, \n",
        "                        verbose=1, mode='auto', restore_best_weights=True)\n",
        "\n",
        "tuner.search(x=X_train, y=y_train, batch_size=5, epochs=100, validation_data=(X_val, y_val), callbacks=[monitor])\n",
        "best_model = tuner.get_best_models()[0]\n",
        "best_model.summary()"
      ]
    },
    {
      "cell_type": "markdown",
      "metadata": {
        "id": "ajPbezKbHsj5"
      },
      "source": [
        "## Best model training"
      ]
    },
    {
      "cell_type": "code",
      "execution_count": 26,
      "metadata": {
        "id": "_1bnxNgXHigw"
      },
      "outputs": [],
      "source": [
        "# define base model\n",
        "def baseline_model(input_dim):\n",
        "\t# create model\n",
        "\tmodel = Sequential()\n",
        "\tmodel.add(Dense(5, input_shape=(input_dim,), kernel_initializer='normal', activation='relu'))\n",
        "\tmodel.add(Dense(5,  kernel_initializer='normal', activation='relu'))\n",
        "\n",
        "\n",
        "\tmodel.add(Dense(1, kernel_initializer='normal'))\n",
        "\t# Compile model\n",
        "\tmodel.compile(loss='mean_squared_error', optimizer=keras.optimizers.Adam(learning_rate=0.001))\n",
        "\t# model.compile(loss='mean_squared_error', optimizer='adam')\n",
        "    \n",
        "\treturn model"
      ]
    },
    {
      "cell_type": "code",
      "execution_count": 27,
      "metadata": {
        "colab": {
          "base_uri": "https://localhost:8080/"
        },
        "id": "XVslOw-0OQA8",
        "outputId": "71e894dc-a878-450f-86a7-8770e3d09c34"
      },
      "outputs": [
        {
          "name": "stdout",
          "output_type": "stream",
          "text": [
            "Epoch 1/100\n",
            "6781/6781 [==============================] - 10s 1ms/step - loss: 0.0441 - val_loss: 0.0091\n",
            "Epoch 2/100\n",
            "6781/6781 [==============================] - 9s 1ms/step - loss: 0.0059 - val_loss: 0.0053\n",
            "Epoch 3/100\n",
            "6781/6781 [==============================] - 9s 1ms/step - loss: 0.0031 - val_loss: 0.0013\n",
            "Epoch 4/100\n",
            "6781/6781 [==============================] - 10s 1ms/step - loss: 0.0012 - val_loss: 4.7499e-04\n",
            "Epoch 5/100\n",
            "6781/6781 [==============================] - 11s 2ms/step - loss: 7.2766e-04 - val_loss: 5.9013e-04\n",
            "Epoch 6/100\n",
            "6781/6781 [==============================] - 9s 1ms/step - loss: 7.0955e-04 - val_loss: 3.6897e-04\n",
            "Epoch 7/100\n",
            "6781/6781 [==============================] - 9s 1ms/step - loss: 6.7251e-04 - val_loss: 4.2898e-04\n",
            "Epoch 8/100\n",
            "6781/6781 [==============================] - 9s 1ms/step - loss: 7.0689e-04 - val_loss: 9.9404e-04\n",
            "Epoch 9/100\n",
            "6781/6781 [==============================] - 9s 1ms/step - loss: 6.7639e-04 - val_loss: 6.9556e-04\n",
            "Epoch 10/100\n",
            "6781/6781 [==============================] - 9s 1ms/step - loss: 6.6188e-04 - val_loss: 7.7996e-04\n",
            "Epoch 11/100\n",
            "6781/6781 [==============================] - 9s 1ms/step - loss: 6.5698e-04 - val_loss: 3.7545e-04\n",
            "Epoch 12/100\n",
            "6781/6781 [==============================] - 9s 1ms/step - loss: 6.8793e-04 - val_loss: 5.1962e-04\n",
            "Epoch 13/100\n",
            "6732/6781 [============================>.] - ETA: 0s - loss: 6.6093e-04Restoring model weights from the end of the best epoch: 3.\n",
            "6781/6781 [==============================] - 9s 1ms/step - loss: 6.5917e-04 - val_loss: 0.0013\n",
            "Epoch 13: early stopping\n"
          ]
        },
        {
          "data": {
            "text/plain": [
              "<keras.callbacks.History at 0x204a698fe80>"
            ]
          },
          "execution_count": 27,
          "metadata": {},
          "output_type": "execute_result"
        }
      ],
      "source": [
        "model = baseline_model(X_train.shape[1])\n",
        "\n",
        "monitor = EarlyStopping(monitor='val_loss', min_delta=1e-3, patience=10, \n",
        "                        verbose=1, mode='auto', restore_best_weights=True)\n",
        "\n",
        "model.fit(x=X_train, y=y_train, batch_size=1, epochs=100, validation_data=(X_val, y_val), callbacks=[monitor])\n"
      ]
    },
    {
      "cell_type": "markdown",
      "metadata": {
        "id": "baqLv9mDH-iU"
      },
      "source": [
        "## Evaluation"
      ]
    },
    {
      "cell_type": "code",
      "execution_count": 81,
      "metadata": {},
      "outputs": [
        {
          "data": {
            "text/plain": [
              "(59, 5)"
            ]
          },
          "execution_count": 81,
          "metadata": {},
          "output_type": "execute_result"
        }
      ],
      "source": [
        "X_test.shape"
      ]
    },
    {
      "cell_type": "code",
      "execution_count": 82,
      "metadata": {},
      "outputs": [],
      "source": [
        "model = keras.models.load_model(\"Model_DNN_5-5-1\")\n"
      ]
    },
    {
      "cell_type": "code",
      "execution_count": 83,
      "metadata": {
        "colab": {
          "base_uri": "https://localhost:8080/"
        },
        "id": "jZWdR-RfOZus",
        "outputId": "85cc96ff-73d6-4182-e2f4-95df27e864af"
      },
      "outputs": [
        {
          "name": "stdout",
          "output_type": "stream",
          "text": [
            "2/2 [==============================] - 0s 2ms/step\n",
            " Mean squared error: 0.00040771326682367457\n"
          ]
        }
      ],
      "source": [
        "dnn_y_pred = [p[0] for p in model.predict(X_test)]\n",
        "\n",
        "mse = mean_squared_error(y_test.y_exp.to_list(), dnn_y_pred)\n",
        "print(f\" Mean squared error: {mse}\")\n"
      ]
    },
    {
      "cell_type": "code",
      "execution_count": 18,
      "metadata": {
        "colab": {
          "base_uri": "https://localhost:8080/",
          "height": 36
        },
        "id": "3XOJUVH4D0gN",
        "outputId": "13c39a9b-1780-4031-d39a-7b5f9735d830"
      },
      "outputs": [
        {
          "name": "stdout",
          "output_type": "stream",
          "text": [
            "INFO:tensorflow:Assets written to: Model_DNN_5-5-1\\assets\n"
          ]
        },
        {
          "data": {
            "text/plain": [
              "'e:\\\\Personal\\\\GitHub\\\\CHAMOAnalyticsDatathon2022\\\\modeling\\\\DNN\\\\Model_DNN_5-5-1.zip'"
            ]
          },
          "execution_count": 18,
          "metadata": {},
          "output_type": "execute_result"
        }
      ],
      "source": [
        "# import shutil\n",
        "# model.save(\"Model_DNN_5-5-1\")\n",
        "# shutil.make_archive(\"Model_DNN_5-5-1\", 'zip', \"Model_DNN_5-5-1\")"
      ]
    },
    {
      "cell_type": "markdown",
      "metadata": {},
      "source": [
        "# Vizualisation"
      ]
    },
    {
      "cell_type": "code",
      "execution_count": 51,
      "metadata": {},
      "outputs": [],
      "source": [
        "import plotly.express as px\n",
        "import plotly.graph_objects as go\n"
      ]
    },
    {
      "cell_type": "code",
      "execution_count": 106,
      "metadata": {},
      "outputs": [
        {
          "data": {
            "application/vnd.plotly.v1+json": {
              "config": {
                "plotlyServerURL": "https://plot.ly"
              },
              "data": [
                {
                  "mode": "lines",
                  "name": "Taux d'échange USD/CAD réel",
                  "type": "scatter",
                  "x": [
                    "2022-08-15T00:00:00",
                    "2022-08-16T00:00:00",
                    "2022-08-17T00:00:00",
                    "2022-08-18T00:00:00",
                    "2022-08-19T00:00:00",
                    "2022-08-22T00:00:00",
                    "2022-08-23T00:00:00",
                    "2022-08-24T00:00:00",
                    "2022-08-25T00:00:00",
                    "2022-08-26T00:00:00",
                    "2022-08-29T00:00:00",
                    "2022-08-30T00:00:00",
                    "2022-08-31T00:00:00",
                    "2022-09-01T00:00:00",
                    "2022-09-02T00:00:00",
                    "2022-09-05T00:00:00",
                    "2022-09-06T00:00:00",
                    "2022-09-07T00:00:00",
                    "2022-09-08T00:00:00",
                    "2022-09-09T00:00:00",
                    "2022-09-12T00:00:00",
                    "2022-09-13T00:00:00",
                    "2022-09-14T00:00:00",
                    "2022-09-15T00:00:00",
                    "2022-09-16T00:00:00",
                    "2022-09-19T00:00:00",
                    "2022-09-20T00:00:00",
                    "2022-09-21T00:00:00",
                    "2022-09-22T00:00:00",
                    "2022-09-23T00:00:00",
                    "2022-09-26T00:00:00",
                    "2022-09-27T00:00:00",
                    "2022-09-28T00:00:00",
                    "2022-09-29T00:00:00",
                    "2022-09-30T00:00:00",
                    "2022-10-03T00:00:00",
                    "2022-10-04T00:00:00",
                    "2022-10-05T00:00:00",
                    "2022-10-06T00:00:00",
                    "2022-10-07T00:00:00",
                    "2022-10-10T00:00:00",
                    "2022-10-11T00:00:00",
                    "2022-10-12T00:00:00",
                    "2022-10-13T00:00:00",
                    "2022-10-14T00:00:00",
                    "2022-10-17T00:00:00",
                    "2022-10-18T00:00:00",
                    "2022-10-19T00:00:00",
                    "2022-10-20T00:00:00",
                    "2022-10-21T00:00:00",
                    "2022-10-25T00:00:00",
                    "2022-10-26T00:00:00",
                    "2022-10-27T00:00:00",
                    "2022-10-28T00:00:00",
                    "2022-10-31T00:00:00",
                    "2022-11-01T00:00:00",
                    "2022-11-02T00:00:00",
                    "2022-11-03T00:00:00",
                    "2022-11-04T00:00:00"
                  ],
                  "y": [
                    1.277,
                    1.2907,
                    1.2846,
                    1.2911,
                    1.2951,
                    1.2997,
                    1.3057,
                    1.2953,
                    1.2967,
                    1.2924,
                    1.303,
                    1.3012,
                    1.3093,
                    1.3133,
                    1.3155,
                    1.3128,
                    1.3142,
                    1.3155,
                    1.3127,
                    1.3093,
                    1.3024,
                    1.2993,
                    1.3169,
                    1.3167,
                    1.3228,
                    1.3269,
                    1.3251,
                    1.3363,
                    1.346,
                    1.3487,
                    1.3591,
                    1.3739,
                    1.3726,
                    1.3607,
                    1.3679,
                    1.3816,
                    1.3624,
                    1.3513,
                    1.3617,
                    1.3749,
                    1.3735,
                    1.3777,
                    1.3798,
                    1.3814,
                    1.3752,
                    1.3877,
                    1.3714,
                    1.3741,
                    1.3767,
                    1.3766,
                    1.3705,
                    1.3608,
                    1.3553,
                    1.3565,
                    1.3615,
                    1.3625,
                    1.3632,
                    1.3712,
                    1.3746
                  ]
                },
                {
                  "mode": "lines",
                  "name": "Baseline - Mean",
                  "type": "scatter",
                  "x": [
                    "2022-08-15T00:00:00",
                    "2022-08-16T00:00:00",
                    "2022-08-17T00:00:00",
                    "2022-08-18T00:00:00",
                    "2022-08-19T00:00:00",
                    "2022-08-22T00:00:00",
                    "2022-08-23T00:00:00",
                    "2022-08-24T00:00:00",
                    "2022-08-25T00:00:00",
                    "2022-08-26T00:00:00",
                    "2022-08-29T00:00:00",
                    "2022-08-30T00:00:00",
                    "2022-08-31T00:00:00",
                    "2022-09-01T00:00:00",
                    "2022-09-02T00:00:00",
                    "2022-09-05T00:00:00",
                    "2022-09-06T00:00:00",
                    "2022-09-07T00:00:00",
                    "2022-09-08T00:00:00",
                    "2022-09-09T00:00:00",
                    "2022-09-12T00:00:00",
                    "2022-09-13T00:00:00",
                    "2022-09-14T00:00:00",
                    "2022-09-15T00:00:00",
                    "2022-09-16T00:00:00",
                    "2022-09-19T00:00:00",
                    "2022-09-20T00:00:00",
                    "2022-09-21T00:00:00",
                    "2022-09-22T00:00:00",
                    "2022-09-23T00:00:00",
                    "2022-09-26T00:00:00",
                    "2022-09-27T00:00:00",
                    "2022-09-28T00:00:00",
                    "2022-09-29T00:00:00",
                    "2022-09-30T00:00:00",
                    "2022-10-03T00:00:00",
                    "2022-10-04T00:00:00",
                    "2022-10-05T00:00:00",
                    "2022-10-06T00:00:00",
                    "2022-10-07T00:00:00",
                    "2022-10-10T00:00:00",
                    "2022-10-11T00:00:00",
                    "2022-10-12T00:00:00",
                    "2022-10-13T00:00:00",
                    "2022-10-14T00:00:00",
                    "2022-10-17T00:00:00",
                    "2022-10-18T00:00:00",
                    "2022-10-19T00:00:00",
                    "2022-10-20T00:00:00",
                    "2022-10-21T00:00:00",
                    "2022-10-25T00:00:00",
                    "2022-10-26T00:00:00",
                    "2022-10-27T00:00:00",
                    "2022-10-28T00:00:00",
                    "2022-10-31T00:00:00",
                    "2022-11-01T00:00:00",
                    "2022-11-02T00:00:00",
                    "2022-11-03T00:00:00",
                    "2022-11-04T00:00:00"
                  ],
                  "y": [
                    1.2683310278719953,
                    1.2683310278719953,
                    1.2683310278719953,
                    1.2683310278719953,
                    1.2683310278719953,
                    1.2683310278719953,
                    1.2683310278719953,
                    1.2683310278719953,
                    1.2683310278719953,
                    1.2683310278719953,
                    1.2683310278719953,
                    1.2683310278719953,
                    1.2683310278719953,
                    1.2683310278719953,
                    1.2683310278719953,
                    1.2683310278719953,
                    1.2683310278719953,
                    1.2683310278719953,
                    1.2683310278719953,
                    1.2683310278719953,
                    1.2683310278719953,
                    1.2683310278719953,
                    1.2683310278719953,
                    1.2683310278719953,
                    1.2683310278719953,
                    1.2683310278719953,
                    1.2683310278719953,
                    1.2683310278719953,
                    1.2683310278719953,
                    1.2683310278719953,
                    1.2683310278719953,
                    1.2683310278719953,
                    1.2683310278719953,
                    1.2683310278719953,
                    1.2683310278719953,
                    1.2683310278719953,
                    1.2683310278719953,
                    1.2683310278719953,
                    1.2683310278719953,
                    1.2683310278719953,
                    1.2683310278719953,
                    1.2683310278719953,
                    1.2683310278719953,
                    1.2683310278719953,
                    1.2683310278719953,
                    1.2683310278719953,
                    1.2683310278719953,
                    1.2683310278719953,
                    1.2683310278719953,
                    1.2683310278719953,
                    1.2683310278719953,
                    1.2683310278719953,
                    1.2683310278719953,
                    1.2683310278719953,
                    1.2683310278719953,
                    1.2683310278719953,
                    1.2683310278719953,
                    1.2683310278719953,
                    1.2683310278719953
                  ]
                },
                {
                  "mode": "lines",
                  "name": "DNN-5-5-1",
                  "type": "scatter",
                  "x": [
                    "2022-08-15T00:00:00",
                    "2022-08-16T00:00:00",
                    "2022-08-17T00:00:00",
                    "2022-08-18T00:00:00",
                    "2022-08-19T00:00:00",
                    "2022-08-22T00:00:00",
                    "2022-08-23T00:00:00",
                    "2022-08-24T00:00:00",
                    "2022-08-25T00:00:00",
                    "2022-08-26T00:00:00",
                    "2022-08-29T00:00:00",
                    "2022-08-30T00:00:00",
                    "2022-08-31T00:00:00",
                    "2022-09-01T00:00:00",
                    "2022-09-02T00:00:00",
                    "2022-09-05T00:00:00",
                    "2022-09-06T00:00:00",
                    "2022-09-07T00:00:00",
                    "2022-09-08T00:00:00",
                    "2022-09-09T00:00:00",
                    "2022-09-12T00:00:00",
                    "2022-09-13T00:00:00",
                    "2022-09-14T00:00:00",
                    "2022-09-15T00:00:00",
                    "2022-09-16T00:00:00",
                    "2022-09-19T00:00:00",
                    "2022-09-20T00:00:00",
                    "2022-09-21T00:00:00",
                    "2022-09-22T00:00:00",
                    "2022-09-23T00:00:00",
                    "2022-09-26T00:00:00",
                    "2022-09-27T00:00:00",
                    "2022-09-28T00:00:00",
                    "2022-09-29T00:00:00",
                    "2022-09-30T00:00:00",
                    "2022-10-03T00:00:00",
                    "2022-10-04T00:00:00",
                    "2022-10-05T00:00:00",
                    "2022-10-06T00:00:00",
                    "2022-10-07T00:00:00",
                    "2022-10-10T00:00:00",
                    "2022-10-11T00:00:00",
                    "2022-10-12T00:00:00",
                    "2022-10-13T00:00:00",
                    "2022-10-14T00:00:00",
                    "2022-10-17T00:00:00",
                    "2022-10-18T00:00:00",
                    "2022-10-19T00:00:00",
                    "2022-10-20T00:00:00",
                    "2022-10-21T00:00:00",
                    "2022-10-25T00:00:00",
                    "2022-10-26T00:00:00",
                    "2022-10-27T00:00:00",
                    "2022-10-28T00:00:00",
                    "2022-10-31T00:00:00",
                    "2022-11-01T00:00:00",
                    "2022-11-02T00:00:00",
                    "2022-11-03T00:00:00",
                    "2022-11-04T00:00:00"
                  ],
                  "y": [
                    1.3062400817871094,
                    1.3070826530456543,
                    1.3082106113433838,
                    1.306950569152832,
                    1.3074960708618164,
                    1.3095507621765137,
                    1.307276964187622,
                    1.3081742525100708,
                    1.30389404296875,
                    1.3037288188934326,
                    1.3037524223327637,
                    1.3079524040222168,
                    1.3057940006256104,
                    1.3082194328308105,
                    1.309827208518982,
                    1.311757206916809,
                    1.3144330978393555,
                    1.3111218214035034,
                    1.3117003440856934,
                    1.3102197647094727,
                    1.314634084701538,
                    1.3140442371368408,
                    1.3176910877227783,
                    1.3215606212615967,
                    1.3226197957992554,
                    1.3219494819641113,
                    1.3225700855255127,
                    1.3231325149536133,
                    1.3226231336593628,
                    1.321943759918213,
                    1.3201895952224731,
                    1.3192577362060547,
                    1.3258806467056274,
                    1.3258252143859863,
                    1.3285754919052124,
                    1.3305208683013916,
                    1.3301470279693604,
                    1.3356412649154663,
                    1.3409507274627686,
                    1.3424842357635498,
                    1.3485968112945557,
                    1.3578922748565674,
                    1.3576090335845947,
                    1.354488492012024,
                    1.358659029006958,
                    1.3669826984405518,
                    1.3597233295440674,
                    1.354660987854004,
                    1.3604490756988525,
                    1.3681564331054688,
                    1.3699827194213867,
                    1.3712018728256226,
                    1.3721191883087158,
                    1.3697607517242432,
                    1.3767865896224976,
                    1.3697841167449951,
                    1.371246337890625,
                    1.37264084815979,
                    1.3725996017456055
                  ]
                }
              ],
              "layout": {
                "font": {
                  "size": 18
                },
                "height": 800,
                "legend": {
                  "title": {
                    "text": "Legend"
                  }
                },
                "template": {
                  "data": {
                    "bar": [
                      {
                        "error_x": {
                          "color": "#2a3f5f"
                        },
                        "error_y": {
                          "color": "#2a3f5f"
                        },
                        "marker": {
                          "line": {
                            "color": "#E5ECF6",
                            "width": 0.5
                          },
                          "pattern": {
                            "fillmode": "overlay",
                            "size": 10,
                            "solidity": 0.2
                          }
                        },
                        "type": "bar"
                      }
                    ],
                    "barpolar": [
                      {
                        "marker": {
                          "line": {
                            "color": "#E5ECF6",
                            "width": 0.5
                          },
                          "pattern": {
                            "fillmode": "overlay",
                            "size": 10,
                            "solidity": 0.2
                          }
                        },
                        "type": "barpolar"
                      }
                    ],
                    "carpet": [
                      {
                        "aaxis": {
                          "endlinecolor": "#2a3f5f",
                          "gridcolor": "white",
                          "linecolor": "white",
                          "minorgridcolor": "white",
                          "startlinecolor": "#2a3f5f"
                        },
                        "baxis": {
                          "endlinecolor": "#2a3f5f",
                          "gridcolor": "white",
                          "linecolor": "white",
                          "minorgridcolor": "white",
                          "startlinecolor": "#2a3f5f"
                        },
                        "type": "carpet"
                      }
                    ],
                    "choropleth": [
                      {
                        "colorbar": {
                          "outlinewidth": 0,
                          "ticks": ""
                        },
                        "type": "choropleth"
                      }
                    ],
                    "contour": [
                      {
                        "colorbar": {
                          "outlinewidth": 0,
                          "ticks": ""
                        },
                        "colorscale": [
                          [
                            0,
                            "#0d0887"
                          ],
                          [
                            0.1111111111111111,
                            "#46039f"
                          ],
                          [
                            0.2222222222222222,
                            "#7201a8"
                          ],
                          [
                            0.3333333333333333,
                            "#9c179e"
                          ],
                          [
                            0.4444444444444444,
                            "#bd3786"
                          ],
                          [
                            0.5555555555555556,
                            "#d8576b"
                          ],
                          [
                            0.6666666666666666,
                            "#ed7953"
                          ],
                          [
                            0.7777777777777778,
                            "#fb9f3a"
                          ],
                          [
                            0.8888888888888888,
                            "#fdca26"
                          ],
                          [
                            1,
                            "#f0f921"
                          ]
                        ],
                        "type": "contour"
                      }
                    ],
                    "contourcarpet": [
                      {
                        "colorbar": {
                          "outlinewidth": 0,
                          "ticks": ""
                        },
                        "type": "contourcarpet"
                      }
                    ],
                    "heatmap": [
                      {
                        "colorbar": {
                          "outlinewidth": 0,
                          "ticks": ""
                        },
                        "colorscale": [
                          [
                            0,
                            "#0d0887"
                          ],
                          [
                            0.1111111111111111,
                            "#46039f"
                          ],
                          [
                            0.2222222222222222,
                            "#7201a8"
                          ],
                          [
                            0.3333333333333333,
                            "#9c179e"
                          ],
                          [
                            0.4444444444444444,
                            "#bd3786"
                          ],
                          [
                            0.5555555555555556,
                            "#d8576b"
                          ],
                          [
                            0.6666666666666666,
                            "#ed7953"
                          ],
                          [
                            0.7777777777777778,
                            "#fb9f3a"
                          ],
                          [
                            0.8888888888888888,
                            "#fdca26"
                          ],
                          [
                            1,
                            "#f0f921"
                          ]
                        ],
                        "type": "heatmap"
                      }
                    ],
                    "heatmapgl": [
                      {
                        "colorbar": {
                          "outlinewidth": 0,
                          "ticks": ""
                        },
                        "colorscale": [
                          [
                            0,
                            "#0d0887"
                          ],
                          [
                            0.1111111111111111,
                            "#46039f"
                          ],
                          [
                            0.2222222222222222,
                            "#7201a8"
                          ],
                          [
                            0.3333333333333333,
                            "#9c179e"
                          ],
                          [
                            0.4444444444444444,
                            "#bd3786"
                          ],
                          [
                            0.5555555555555556,
                            "#d8576b"
                          ],
                          [
                            0.6666666666666666,
                            "#ed7953"
                          ],
                          [
                            0.7777777777777778,
                            "#fb9f3a"
                          ],
                          [
                            0.8888888888888888,
                            "#fdca26"
                          ],
                          [
                            1,
                            "#f0f921"
                          ]
                        ],
                        "type": "heatmapgl"
                      }
                    ],
                    "histogram": [
                      {
                        "marker": {
                          "pattern": {
                            "fillmode": "overlay",
                            "size": 10,
                            "solidity": 0.2
                          }
                        },
                        "type": "histogram"
                      }
                    ],
                    "histogram2d": [
                      {
                        "colorbar": {
                          "outlinewidth": 0,
                          "ticks": ""
                        },
                        "colorscale": [
                          [
                            0,
                            "#0d0887"
                          ],
                          [
                            0.1111111111111111,
                            "#46039f"
                          ],
                          [
                            0.2222222222222222,
                            "#7201a8"
                          ],
                          [
                            0.3333333333333333,
                            "#9c179e"
                          ],
                          [
                            0.4444444444444444,
                            "#bd3786"
                          ],
                          [
                            0.5555555555555556,
                            "#d8576b"
                          ],
                          [
                            0.6666666666666666,
                            "#ed7953"
                          ],
                          [
                            0.7777777777777778,
                            "#fb9f3a"
                          ],
                          [
                            0.8888888888888888,
                            "#fdca26"
                          ],
                          [
                            1,
                            "#f0f921"
                          ]
                        ],
                        "type": "histogram2d"
                      }
                    ],
                    "histogram2dcontour": [
                      {
                        "colorbar": {
                          "outlinewidth": 0,
                          "ticks": ""
                        },
                        "colorscale": [
                          [
                            0,
                            "#0d0887"
                          ],
                          [
                            0.1111111111111111,
                            "#46039f"
                          ],
                          [
                            0.2222222222222222,
                            "#7201a8"
                          ],
                          [
                            0.3333333333333333,
                            "#9c179e"
                          ],
                          [
                            0.4444444444444444,
                            "#bd3786"
                          ],
                          [
                            0.5555555555555556,
                            "#d8576b"
                          ],
                          [
                            0.6666666666666666,
                            "#ed7953"
                          ],
                          [
                            0.7777777777777778,
                            "#fb9f3a"
                          ],
                          [
                            0.8888888888888888,
                            "#fdca26"
                          ],
                          [
                            1,
                            "#f0f921"
                          ]
                        ],
                        "type": "histogram2dcontour"
                      }
                    ],
                    "mesh3d": [
                      {
                        "colorbar": {
                          "outlinewidth": 0,
                          "ticks": ""
                        },
                        "type": "mesh3d"
                      }
                    ],
                    "parcoords": [
                      {
                        "line": {
                          "colorbar": {
                            "outlinewidth": 0,
                            "ticks": ""
                          }
                        },
                        "type": "parcoords"
                      }
                    ],
                    "pie": [
                      {
                        "automargin": true,
                        "type": "pie"
                      }
                    ],
                    "scatter": [
                      {
                        "fillpattern": {
                          "fillmode": "overlay",
                          "size": 10,
                          "solidity": 0.2
                        },
                        "type": "scatter"
                      }
                    ],
                    "scatter3d": [
                      {
                        "line": {
                          "colorbar": {
                            "outlinewidth": 0,
                            "ticks": ""
                          }
                        },
                        "marker": {
                          "colorbar": {
                            "outlinewidth": 0,
                            "ticks": ""
                          }
                        },
                        "type": "scatter3d"
                      }
                    ],
                    "scattercarpet": [
                      {
                        "marker": {
                          "colorbar": {
                            "outlinewidth": 0,
                            "ticks": ""
                          }
                        },
                        "type": "scattercarpet"
                      }
                    ],
                    "scattergeo": [
                      {
                        "marker": {
                          "colorbar": {
                            "outlinewidth": 0,
                            "ticks": ""
                          }
                        },
                        "type": "scattergeo"
                      }
                    ],
                    "scattergl": [
                      {
                        "marker": {
                          "colorbar": {
                            "outlinewidth": 0,
                            "ticks": ""
                          }
                        },
                        "type": "scattergl"
                      }
                    ],
                    "scattermapbox": [
                      {
                        "marker": {
                          "colorbar": {
                            "outlinewidth": 0,
                            "ticks": ""
                          }
                        },
                        "type": "scattermapbox"
                      }
                    ],
                    "scatterpolar": [
                      {
                        "marker": {
                          "colorbar": {
                            "outlinewidth": 0,
                            "ticks": ""
                          }
                        },
                        "type": "scatterpolar"
                      }
                    ],
                    "scatterpolargl": [
                      {
                        "marker": {
                          "colorbar": {
                            "outlinewidth": 0,
                            "ticks": ""
                          }
                        },
                        "type": "scatterpolargl"
                      }
                    ],
                    "scatterternary": [
                      {
                        "marker": {
                          "colorbar": {
                            "outlinewidth": 0,
                            "ticks": ""
                          }
                        },
                        "type": "scatterternary"
                      }
                    ],
                    "surface": [
                      {
                        "colorbar": {
                          "outlinewidth": 0,
                          "ticks": ""
                        },
                        "colorscale": [
                          [
                            0,
                            "#0d0887"
                          ],
                          [
                            0.1111111111111111,
                            "#46039f"
                          ],
                          [
                            0.2222222222222222,
                            "#7201a8"
                          ],
                          [
                            0.3333333333333333,
                            "#9c179e"
                          ],
                          [
                            0.4444444444444444,
                            "#bd3786"
                          ],
                          [
                            0.5555555555555556,
                            "#d8576b"
                          ],
                          [
                            0.6666666666666666,
                            "#ed7953"
                          ],
                          [
                            0.7777777777777778,
                            "#fb9f3a"
                          ],
                          [
                            0.8888888888888888,
                            "#fdca26"
                          ],
                          [
                            1,
                            "#f0f921"
                          ]
                        ],
                        "type": "surface"
                      }
                    ],
                    "table": [
                      {
                        "cells": {
                          "fill": {
                            "color": "#EBF0F8"
                          },
                          "line": {
                            "color": "white"
                          }
                        },
                        "header": {
                          "fill": {
                            "color": "#C8D4E3"
                          },
                          "line": {
                            "color": "white"
                          }
                        },
                        "type": "table"
                      }
                    ]
                  },
                  "layout": {
                    "annotationdefaults": {
                      "arrowcolor": "#2a3f5f",
                      "arrowhead": 0,
                      "arrowwidth": 1
                    },
                    "autotypenumbers": "strict",
                    "coloraxis": {
                      "colorbar": {
                        "outlinewidth": 0,
                        "ticks": ""
                      }
                    },
                    "colorscale": {
                      "diverging": [
                        [
                          0,
                          "#8e0152"
                        ],
                        [
                          0.1,
                          "#c51b7d"
                        ],
                        [
                          0.2,
                          "#de77ae"
                        ],
                        [
                          0.3,
                          "#f1b6da"
                        ],
                        [
                          0.4,
                          "#fde0ef"
                        ],
                        [
                          0.5,
                          "#f7f7f7"
                        ],
                        [
                          0.6,
                          "#e6f5d0"
                        ],
                        [
                          0.7,
                          "#b8e186"
                        ],
                        [
                          0.8,
                          "#7fbc41"
                        ],
                        [
                          0.9,
                          "#4d9221"
                        ],
                        [
                          1,
                          "#276419"
                        ]
                      ],
                      "sequential": [
                        [
                          0,
                          "#0d0887"
                        ],
                        [
                          0.1111111111111111,
                          "#46039f"
                        ],
                        [
                          0.2222222222222222,
                          "#7201a8"
                        ],
                        [
                          0.3333333333333333,
                          "#9c179e"
                        ],
                        [
                          0.4444444444444444,
                          "#bd3786"
                        ],
                        [
                          0.5555555555555556,
                          "#d8576b"
                        ],
                        [
                          0.6666666666666666,
                          "#ed7953"
                        ],
                        [
                          0.7777777777777778,
                          "#fb9f3a"
                        ],
                        [
                          0.8888888888888888,
                          "#fdca26"
                        ],
                        [
                          1,
                          "#f0f921"
                        ]
                      ],
                      "sequentialminus": [
                        [
                          0,
                          "#0d0887"
                        ],
                        [
                          0.1111111111111111,
                          "#46039f"
                        ],
                        [
                          0.2222222222222222,
                          "#7201a8"
                        ],
                        [
                          0.3333333333333333,
                          "#9c179e"
                        ],
                        [
                          0.4444444444444444,
                          "#bd3786"
                        ],
                        [
                          0.5555555555555556,
                          "#d8576b"
                        ],
                        [
                          0.6666666666666666,
                          "#ed7953"
                        ],
                        [
                          0.7777777777777778,
                          "#fb9f3a"
                        ],
                        [
                          0.8888888888888888,
                          "#fdca26"
                        ],
                        [
                          1,
                          "#f0f921"
                        ]
                      ]
                    },
                    "colorway": [
                      "#636efa",
                      "#EF553B",
                      "#00cc96",
                      "#ab63fa",
                      "#FFA15A",
                      "#19d3f3",
                      "#FF6692",
                      "#B6E880",
                      "#FF97FF",
                      "#FECB52"
                    ],
                    "font": {
                      "color": "#2a3f5f"
                    },
                    "geo": {
                      "bgcolor": "white",
                      "lakecolor": "white",
                      "landcolor": "#E5ECF6",
                      "showlakes": true,
                      "showland": true,
                      "subunitcolor": "white"
                    },
                    "hoverlabel": {
                      "align": "left"
                    },
                    "hovermode": "closest",
                    "mapbox": {
                      "style": "light"
                    },
                    "paper_bgcolor": "white",
                    "plot_bgcolor": "#E5ECF6",
                    "polar": {
                      "angularaxis": {
                        "gridcolor": "white",
                        "linecolor": "white",
                        "ticks": ""
                      },
                      "bgcolor": "#E5ECF6",
                      "radialaxis": {
                        "gridcolor": "white",
                        "linecolor": "white",
                        "ticks": ""
                      }
                    },
                    "scene": {
                      "xaxis": {
                        "backgroundcolor": "#E5ECF6",
                        "gridcolor": "white",
                        "gridwidth": 2,
                        "linecolor": "white",
                        "showbackground": true,
                        "ticks": "",
                        "zerolinecolor": "white"
                      },
                      "yaxis": {
                        "backgroundcolor": "#E5ECF6",
                        "gridcolor": "white",
                        "gridwidth": 2,
                        "linecolor": "white",
                        "showbackground": true,
                        "ticks": "",
                        "zerolinecolor": "white"
                      },
                      "zaxis": {
                        "backgroundcolor": "#E5ECF6",
                        "gridcolor": "white",
                        "gridwidth": 2,
                        "linecolor": "white",
                        "showbackground": true,
                        "ticks": "",
                        "zerolinecolor": "white"
                      }
                    },
                    "shapedefaults": {
                      "line": {
                        "color": "#2a3f5f"
                      }
                    },
                    "ternary": {
                      "aaxis": {
                        "gridcolor": "white",
                        "linecolor": "white",
                        "ticks": ""
                      },
                      "baxis": {
                        "gridcolor": "white",
                        "linecolor": "white",
                        "ticks": ""
                      },
                      "bgcolor": "#E5ECF6",
                      "caxis": {
                        "gridcolor": "white",
                        "linecolor": "white",
                        "ticks": ""
                      }
                    },
                    "title": {
                      "x": 0.05
                    },
                    "xaxis": {
                      "automargin": true,
                      "gridcolor": "white",
                      "linecolor": "white",
                      "ticks": "",
                      "title": {
                        "standoff": 15
                      },
                      "zerolinecolor": "white",
                      "zerolinewidth": 2
                    },
                    "yaxis": {
                      "automargin": true,
                      "gridcolor": "white",
                      "linecolor": "white",
                      "ticks": "",
                      "title": {
                        "standoff": 15
                      },
                      "zerolinecolor": "white",
                      "zerolinewidth": 2
                    }
                  }
                },
                "title": {
                  "text": "Plot Title"
                },
                "width": 1600,
                "xaxis": {
                  "title": {
                    "text": "Date"
                  }
                },
                "yaxis": {
                  "title": {
                    "text": "Taux d'échange USD/CAD"
                  }
                }
              }
            }
          },
          "metadata": {},
          "output_type": "display_data"
        }
      ],
      "source": [
        "two_week_dates = pd.to_datetime(test['date'], format=\"%Y-%m-%d\") + datetime.timedelta(weeks=2)\n",
        "\n",
        "fig = go.Figure()\n",
        "\n",
        "# fig.add_scatter(x=test['date'], y=test.rate, mode='lines',  name=\"Actuel Taux d'échange USD/CAD réel\",  line=dict(width=10), opacity=.5)\n",
        "fig.add_scatter(x=two_week_dates, y=test.y_exp, mode='lines', name=\"Taux d'échange USD/CAD réel\")\n",
        "fig.add_scatter(x=two_week_dates, y=baseline_y_pred, mode='lines', name=\"Baseline - Mean\")\n",
        "fig.add_scatter(x=two_week_dates, y=dnn_y_pred, mode='lines', name=\"DNN-5-5-1\")\n",
        "\n",
        "fig.update_layout(\n",
        "    title=\"Plot Title\",\n",
        "    xaxis_title=\"Date\",\n",
        "    yaxis_title=\"Taux d'échange USD/CAD\",\n",
        "    legend_title=\"Legend\",\n",
        "    font=dict(\n",
        "        size=18,\n",
        "    ),\n",
        "    width=1600, height=800,\n",
        ")\n",
        "\n",
        "fig.show()"
      ]
    },
    {
      "cell_type": "code",
      "execution_count": 88,
      "metadata": {},
      "outputs": [
        {
          "data": {
            "text/plain": [
              "7088   2022-08-15\n",
              "7089   2022-08-16\n",
              "7090   2022-08-17\n",
              "7091   2022-08-18\n",
              "7092   2022-08-19\n",
              "7093   2022-08-22\n",
              "7094   2022-08-23\n",
              "7095   2022-08-24\n",
              "7096   2022-08-25\n",
              "7097   2022-08-26\n",
              "7098   2022-08-29\n",
              "7099   2022-08-30\n",
              "7100   2022-08-31\n",
              "7101   2022-09-01\n",
              "7102   2022-09-02\n",
              "7103   2022-09-05\n",
              "7104   2022-09-06\n",
              "7105   2022-09-07\n",
              "7106   2022-09-08\n",
              "7107   2022-09-09\n",
              "7108   2022-09-12\n",
              "7109   2022-09-13\n",
              "7110   2022-09-14\n",
              "7111   2022-09-15\n",
              "7112   2022-09-16\n",
              "7113   2022-09-19\n",
              "7114   2022-09-20\n",
              "7115   2022-09-21\n",
              "7116   2022-09-22\n",
              "7117   2022-09-23\n",
              "7118   2022-09-26\n",
              "7119   2022-09-27\n",
              "7120   2022-09-28\n",
              "7121   2022-09-29\n",
              "7122   2022-09-30\n",
              "7123   2022-10-03\n",
              "7124   2022-10-04\n",
              "7125   2022-10-05\n",
              "7126   2022-10-06\n",
              "7127   2022-10-07\n",
              "7128   2022-10-10\n",
              "7129   2022-10-11\n",
              "7130   2022-10-12\n",
              "7131   2022-10-13\n",
              "7132   2022-10-14\n",
              "7133   2022-10-17\n",
              "7134   2022-10-18\n",
              "7135   2022-10-19\n",
              "7136   2022-10-20\n",
              "7137   2022-10-21\n",
              "7139   2022-10-25\n",
              "7140   2022-10-26\n",
              "7141   2022-10-27\n",
              "7142   2022-10-28\n",
              "7143   2022-10-31\n",
              "7144   2022-11-01\n",
              "7145   2022-11-02\n",
              "7146   2022-11-03\n",
              "7147   2022-11-04\n",
              "Name: date, dtype: datetime64[ns]"
            ]
          },
          "execution_count": 88,
          "metadata": {},
          "output_type": "execute_result"
        }
      ],
      "source": []
    }
  ],
  "metadata": {
    "accelerator": "GPU",
    "colab": {
      "collapsed_sections": [],
      "provenance": []
    },
    "gpuClass": "standard",
    "kernelspec": {
      "display_name": "Python 3.10.2 ('venv': venv)",
      "language": "python",
      "name": "python3"
    },
    "language_info": {
      "codemirror_mode": {
        "name": "ipython",
        "version": 3
      },
      "file_extension": ".py",
      "mimetype": "text/x-python",
      "name": "python",
      "nbconvert_exporter": "python",
      "pygments_lexer": "ipython3",
      "version": "3.10.2"
    },
    "vscode": {
      "interpreter": {
        "hash": "f81a1025ef65bd19d86c51979421f447565437db0b8ff99a0c4c460b45e0e908"
      }
    }
  },
  "nbformat": 4,
  "nbformat_minor": 0
}
