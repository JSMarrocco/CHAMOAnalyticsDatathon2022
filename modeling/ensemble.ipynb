{
 "cells": [
  {
   "cell_type": "code",
   "execution_count": 4,
   "metadata": {},
   "outputs": [],
   "source": [
    "import utils \n",
    "from tensorflow import keras\n",
    "import pathlib\n",
    "from  tensorflow.keras.metrics import mean_squared_error\n"
   ]
  },
  {
   "cell_type": "markdown",
   "metadata": {},
   "source": [
    "# LSTM"
   ]
  },
  {
   "cell_type": "code",
   "execution_count": 5,
   "metadata": {},
   "outputs": [],
   "source": [
    "df = utils.load_and_clean_master_dataset()\n",
    "\n",
    "df_train, df_val, df_test = utils.split_train_test_val(df)\n",
    "\n",
    "X_train, y_train = utils.split_Xy(df_train)\n",
    "X_val, y_val = utils.split_Xy(df_val)\n",
    "X_test, y_test = utils.split_Xy(df_test)\n",
    "\n",
    "X_train, scaler = utils.normalize(X_train, train=True)\n",
    "X_val, _ = utils.normalize(X_val, train=False, scaler=scaler)\n",
    "X_test, _ = utils.normalize(X_test, train=False, scaler=scaler)\n",
    "\n",
    "i =7\n",
    "X_train, X_val, X_test = X_train[utils.cols[:i+1]], X_val[utils.cols[:i+1]], X_test[utils.cols[:i+1]]\n",
    "\n",
    "\n",
    "X_train, y_train = utils.to_batch(X_train, y_train)\n",
    "X_val, y_val = utils.to_batch(X_val, y_val)\n",
    "X_test, y_test = utils.to_batch(X_test, y_test)"
   ]
  },
  {
   "cell_type": "code",
   "execution_count": 7,
   "metadata": {},
   "outputs": [
    {
     "name": "stderr",
     "output_type": "stream",
     "text": [
      "2022-11-07 09:26:44.588535: I tensorflow/core/platform/cpu_feature_guard.cc:193] This TensorFlow binary is optimized with oneAPI Deep Neural Network Library (oneDNN) to use the following CPU instructions in performance-critical operations:  AVX2 FMA\n",
      "To enable them in other operations, rebuild TensorFlow with the appropriate compiler flags.\n"
     ]
    }
   ],
   "source": [
    "crnt_dir = pathlib.Path('.').parent.resolve()\n",
    "model = keras.models.load_model(crnt_dir/'lstm'/'model')"
   ]
  },
  {
   "cell_type": "code",
   "execution_count": 8,
   "metadata": {},
   "outputs": [
    {
     "data": {
      "text/plain": [
       "<tf.Tensor: shape=(), dtype=float32, numpy=0.00086672825>"
      ]
     },
     "execution_count": 8,
     "metadata": {},
     "output_type": "execute_result"
    }
   ],
   "source": [
    "y_pred = model(X_test)\n",
    "mean_squared_error(y_test.to_numpy(), y_pred.numpy().reshape(-1))"
   ]
  },
  {
   "cell_type": "markdown",
   "metadata": {},
   "source": [
    "# Simple NN"
   ]
  },
  {
   "cell_type": "code",
   "execution_count": null,
   "metadata": {},
   "outputs": [],
   "source": [
    "df = utils.load_and_clean_master_dataset()\n",
    "\n",
    "df_train, df_val, df_test = utils.split_train_test_val(df)\n",
    "\n",
    "X_train, y_train = utils.split_Xy(df_train)\n",
    "X_val, y_val = utils.split_Xy(df_val)\n",
    "X_test, y_test = utils.split_Xy(df_test)\n",
    "\n",
    "i =\n",
    "X_train, X_val, X_test = X_train[utils.cols[:i+1]], X_val[utils.cols[:i+1]], X_test[utils.cols[:i+1]]\n",
    "\n"
   ]
  }
 ],
 "metadata": {
  "kernelspec": {
   "display_name": "Python 3.9.7 ('base')",
   "language": "python",
   "name": "python3"
  },
  "language_info": {
   "codemirror_mode": {
    "name": "ipython",
    "version": 3
   },
   "file_extension": ".py",
   "mimetype": "text/x-python",
   "name": "python",
   "nbconvert_exporter": "python",
   "pygments_lexer": "ipython3",
   "version": "3.9.7"
  },
  "orig_nbformat": 4,
  "vscode": {
   "interpreter": {
    "hash": "8885cedc3999557674b111d5f865ee3ff77904464a9ea6e0a42cb491ffcb7784"
   }
  }
 },
 "nbformat": 4,
 "nbformat_minor": 2
}
