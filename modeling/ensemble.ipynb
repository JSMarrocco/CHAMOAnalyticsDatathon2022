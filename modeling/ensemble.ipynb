{
 "cells": [
  {
   "cell_type": "markdown",
   "metadata": {},
   "source": [
    "# Ensemble\n",
    "\n",
    "Before running, make sure you have downloaded th ezip file for each model, extracted the model from it, and saved it in a directory named \"model\". Models can be access on [google drive](https://drive.google.com/drive/folders/1ldH5LbvOHNMP_eBM74szzdETlycwVdjW?usp=sharing)."
   ]
  },
  {
   "cell_type": "code",
   "execution_count": 61,
   "metadata": {},
   "outputs": [],
   "source": [
    "import utils \n",
    "from tensorflow import keras\n",
    "import pathlib\n",
    "from  tensorflow.keras.metrics import mean_squared_error\n",
    "import numpy as np\n"
   ]
  },
  {
   "cell_type": "markdown",
   "metadata": {},
   "source": [
    "# LSTM"
   ]
  },
  {
   "cell_type": "markdown",
   "metadata": {},
   "source": [
    "**Prepare data**"
   ]
  },
  {
   "cell_type": "code",
   "execution_count": 62,
   "metadata": {},
   "outputs": [],
   "source": [
    "df = utils.load_and_clean_master_dataset()\n",
    "\n",
    "df_train, df_val, df_test = utils.split_train_test_val(df)\n",
    "\n",
    "X_train, y_train = utils.split_Xy(df_train)\n",
    "X_val, y_val = utils.split_Xy(df_val)\n",
    "X_test, y_test = utils.split_Xy(df_test)\n",
    "\n",
    "X_train, scaler = utils.normalize(X_train, train=True)\n",
    "X_val, _ = utils.normalize(X_val, train=False, scaler=scaler)\n",
    "X_test, _ = utils.normalize(X_test, train=False, scaler=scaler)\n",
    "\n",
    "i =7\n",
    "X_train, X_val, X_test = X_train[utils.cols[:i+1]], X_val[utils.cols[:i+1]], X_test[utils.cols[:i+1]]\n",
    "\n",
    "\n",
    "X_train, y_train = utils.to_batch(X_train, y_train)\n",
    "X_val, y_val = utils.to_batch(X_val, y_val)\n",
    "X_test, y_test = utils.to_batch(X_test, y_test)"
   ]
  },
  {
   "cell_type": "markdown",
   "metadata": {},
   "source": [
    "**Reload model**"
   ]
  },
  {
   "cell_type": "code",
   "execution_count": 63,
   "metadata": {},
   "outputs": [],
   "source": [
    "crnt_dir = pathlib.Path('.').parent.resolve()\n",
    "lstm_model = keras.models.load_model(crnt_dir/'lstm'/'model')"
   ]
  },
  {
   "cell_type": "markdown",
   "metadata": {},
   "source": [
    "**Evaluate model**"
   ]
  },
  {
   "cell_type": "code",
   "execution_count": 64,
   "metadata": {},
   "outputs": [
    {
     "data": {
      "text/plain": [
       "<tf.Tensor: shape=(), dtype=float32, numpy=0.00086672825>"
      ]
     },
     "execution_count": 64,
     "metadata": {},
     "output_type": "execute_result"
    }
   ],
   "source": [
    "y_pred_lstm = lstm_model(X_test)\n",
    "mean_squared_error(y_test.to_numpy(), y_pred_lstm.numpy().reshape(-1))"
   ]
  },
  {
   "cell_type": "markdown",
   "metadata": {},
   "source": [
    "# Simple NN"
   ]
  },
  {
   "cell_type": "markdown",
   "metadata": {},
   "source": [
    "**Prepare data**"
   ]
  },
  {
   "cell_type": "code",
   "execution_count": 84,
   "metadata": {},
   "outputs": [],
   "source": [
    "df = utils.load_and_clean_master_dataset()\n",
    "\n",
    "df_train, df_val, df_test = utils.split_train_test_val(df)\n",
    "\n",
    "X_train, y_train = utils.split_Xy(df_train)\n",
    "X_val, y_val = utils.split_Xy(df_val)\n",
    "X_test, y_test = utils.split_Xy(df_test)\n",
    "\n",
    "i = 5\n",
    "X_train, X_val, X_test = X_train[utils.cols[:i+1]], X_val[utils.cols[:i+1]], X_test[utils.cols[:i+1]]\n"
   ]
  },
  {
   "cell_type": "markdown",
   "metadata": {},
   "source": [
    "**Reload model**"
   ]
  },
  {
   "cell_type": "code",
   "execution_count": 85,
   "metadata": {},
   "outputs": [],
   "source": [
    "crnt_dir = pathlib.Path('.').parent.resolve()\n",
    "nn_model = keras.models.load_model(crnt_dir/'DNN'/'model')"
   ]
  },
  {
   "cell_type": "markdown",
   "metadata": {},
   "source": [
    "**Evaluate model**"
   ]
  },
  {
   "cell_type": "code",
   "execution_count": 86,
   "metadata": {},
   "outputs": [
    {
     "name": "stdout",
     "output_type": "stream",
     "text": [
      "WARNING:tensorflow:5 out of the last 10 calls to <function Model.make_predict_function.<locals>.predict_function at 0x7efe984c7ca0> triggered tf.function retracing. Tracing is expensive and the excessive number of tracings could be due to (1) creating @tf.function repeatedly in a loop, (2) passing tensors with different shapes, (3) passing Python objects instead of tensors. For (1), please define your @tf.function outside of the loop. For (2), @tf.function has reduce_retracing=True option that can avoid unnecessary retracing. For (3), please refer to https://www.tensorflow.org/guide/function#controlling_retracing and https://www.tensorflow.org/api_docs/python/tf/function for  more details.\n",
      "2/2 [==============================] - 0s 5ms/step\n"
     ]
    },
    {
     "data": {
      "text/plain": [
       "<tf.Tensor: shape=(), dtype=float32, numpy=0.00042526922>"
      ]
     },
     "execution_count": 86,
     "metadata": {},
     "output_type": "execute_result"
    }
   ],
   "source": [
    "# Take into account sliding window of models\n",
    "X_test, y_test = X_test[20:], y_test[20:]\n",
    "y_pred_nn = np.array([p[0] for p in nn_model.predict(X_test)])\n",
    "mean_squared_error(y_test.to_numpy(), y_pred_nn.reshape(-1))"
   ]
  },
  {
   "cell_type": "markdown",
   "metadata": {},
   "source": [
    "# Transformer"
   ]
  },
  {
   "cell_type": "markdown",
   "metadata": {},
   "source": [
    "**Prepare data**"
   ]
  },
  {
   "cell_type": "code",
   "execution_count": 12,
   "metadata": {},
   "outputs": [],
   "source": [
    "df = utils.load_and_clean_master_dataset()\n",
    "\n",
    "df_train, df_val, df_test = utils.split_train_test_val(df)\n",
    "\n",
    "X_train, y_train = utils.split_Xy(df_train)\n",
    "X_val, y_val = utils.split_Xy(df_val)\n",
    "X_test, y_test = utils.split_Xy(df_test)\n",
    "\n",
    "i = 4\n",
    "X_train, X_val, X_test = X_train[utils.cols[:i+1]], X_val[utils.cols[:i+1]], X_test[utils.cols[:i+1]]\n",
    "\n",
    "X_train, y_train = utils.to_batch(X_train, y_train)\n",
    "X_val, y_val = utils.to_batch(X_val, y_val)\n",
    "X_test, y_test = utils.to_batch(X_test, y_test)"
   ]
  },
  {
   "cell_type": "markdown",
   "metadata": {},
   "source": [
    "**Reload model**"
   ]
  },
  {
   "cell_type": "code",
   "execution_count": 13,
   "metadata": {},
   "outputs": [],
   "source": [
    "crnt_dir = pathlib.Path('.').parent.resolve()\n",
    "transformer_model = keras.models.load_model(crnt_dir/'Transformer_model'/'model')"
   ]
  },
  {
   "cell_type": "markdown",
   "metadata": {},
   "source": [
    "**Evaluate model**"
   ]
  },
  {
   "cell_type": "code",
   "execution_count": 14,
   "metadata": {},
   "outputs": [
    {
     "data": {
      "text/plain": [
       "<tf.Tensor: shape=(), dtype=float32, numpy=0.0004239239>"
      ]
     },
     "execution_count": 14,
     "metadata": {},
     "output_type": "execute_result"
    }
   ],
   "source": [
    "y_pred_transformer = transformer_model(X_test)\n",
    "mean_squared_error(y_test.to_numpy(), y_pred_transformer.numpy().reshape(-1))"
   ]
  },
  {
   "cell_type": "markdown",
   "metadata": {},
   "source": [
    "# Ensemble"
   ]
  },
  {
   "cell_type": "code",
   "execution_count": 95,
   "metadata": {},
   "outputs": [],
   "source": [
    "y_pred = np.mean([y_pred_transformer, y_pred_nn.reshape((-1,1)), y_pred_lstm], axis=0)\n",
    "ensemble_mse = mean_squared_error(y_test.to_numpy(), y_pred.reshape(-1))"
   ]
  },
  {
   "cell_type": "code",
   "execution_count": 97,
   "metadata": {},
   "outputs": [
    {
     "name": "stdout",
     "output_type": "stream",
     "text": [
      "Final (ensemble) MSE is 0.0003023127210326493\n"
     ]
    }
   ],
   "source": [
    "print(f'Final (ensemble) MSE is {ensemble_mse}')"
   ]
  },
  {
   "cell_type": "code",
   "execution_count": null,
   "metadata": {},
   "outputs": [],
   "source": []
  }
 ],
 "metadata": {
  "kernelspec": {
   "display_name": "Python 3.9.7 ('base')",
   "language": "python",
   "name": "python3"
  },
  "language_info": {
   "codemirror_mode": {
    "name": "ipython",
    "version": 3
   },
   "file_extension": ".py",
   "mimetype": "text/x-python",
   "name": "python",
   "nbconvert_exporter": "python",
   "pygments_lexer": "ipython3",
   "version": "3.9.7"
  },
  "orig_nbformat": 4,
  "vscode": {
   "interpreter": {
    "hash": "8885cedc3999557674b111d5f865ee3ff77904464a9ea6e0a42cb491ffcb7784"
   }
  }
 },
 "nbformat": 4,
 "nbformat_minor": 2
}
